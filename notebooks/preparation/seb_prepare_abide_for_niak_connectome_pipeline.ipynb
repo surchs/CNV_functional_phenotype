{
 "cells": [
  {
   "cell_type": "markdown",
   "metadata": {},
   "source": [
    "Setup model and input files to create SVIP like connectomes in ABIDE"
   ]
  },
  {
   "cell_type": "code",
   "execution_count": 1,
   "metadata": {},
   "outputs": [],
   "source": [
    "import os\n",
    "import numpy as np\n",
    "import pandas as pd\n",
    "import patsy as pat\n",
    "from scipy import io as sio"
   ]
  },
  {
   "cell_type": "code",
   "execution_count": 2,
   "metadata": {},
   "outputs": [],
   "source": [
    "# Paths\n",
    "model_p = '/remote/guillimin/simdata/data/abide_1/pheno/abide_1_psm_sample.csv'\n",
    "comp_p = '/remote/guillimin/simdata/simons_vip/pheno/phenotype_all_both_sessions_norm.csv'\n",
    "data_p = '/remote/guillimin/simdata/data/abide_1/preprocessed/niak_gs0_lp1/'\n",
    "remote_p = '/gs/project/gsf-624-aa/data/abide_1/preprocessed/niak_gs0_lp1'\n",
    "f_temp = 'fmri_{:07}_session_1_run1.nii.gz'\n",
    "out_p = '/remote/guillimin/simdata/data/abide_1/connectome'\n",
    "if not os.path.isdir(out_p):\n",
    "    os.makedirs(out_p)"
   ]
  },
  {
   "cell_type": "code",
   "execution_count": 3,
   "metadata": {},
   "outputs": [
    {
     "name": "stderr",
     "output_type": "stream",
     "text": [
      "/home/surchs/Venv/py35/lib/python3.5/site-packages/ipykernel_launcher.py:4: SettingWithCopyWarning: \n",
      "A value is trying to be set on a copy of a slice from a DataFrame.\n",
      "Try using .loc[row_indexer,col_indexer] = value instead\n",
      "\n",
      "See the caveats in the documentation: http://pandas.pydata.org/pandas-docs/stable/indexing.html#indexing-view-versus-copy\n",
      "  after removing the cwd from sys.path.\n"
     ]
    }
   ],
   "source": [
    "model = pd.read_csv(model_p)\n",
    "biv = model[~model.biv.isnull()]\n",
    "biv_c = biv[biv.DX_GROUP=='Control']\n",
    "biv_c['niak_sub'] = 's' + biv['SUB_ID'].astype(str)\n",
    "comp = pd.read_csv(comp_p)"
   ]
  },
  {
   "cell_type": "code",
   "execution_count": 4,
   "metadata": {},
   "outputs": [],
   "source": [
    "glm_model = pat.dmatrix('0+SITE_ID+FD_scrubbed', data=biv_c, return_type='dataframe')\n",
    "contrasts = {c:0 for c in glm_model.columns[:-2]}\n",
    "contrasts['AGE_AT_SCAN'] = 1\n",
    "contrasts['FD_scrubbed'] = 0\n",
    "# Add subject ID and move to front\n",
    "glm_model['']=biv_c['niak_sub']\n",
    "ord_list = [''] + list(glm_model.columns)\n",
    "glm_model = glm_model[ord_list]"
   ]
  },
  {
   "cell_type": "code",
   "execution_count": 5,
   "metadata": {},
   "outputs": [
    {
     "data": {
      "text/html": [
       "<div>\n",
       "<style>\n",
       "    .dataframe thead tr:only-child th {\n",
       "        text-align: right;\n",
       "    }\n",
       "\n",
       "    .dataframe thead th {\n",
       "        text-align: left;\n",
       "    }\n",
       "\n",
       "    .dataframe tbody tr th {\n",
       "        vertical-align: top;\n",
       "    }\n",
       "</style>\n",
       "<table border=\"1\" class=\"dataframe\">\n",
       "  <thead>\n",
       "    <tr style=\"text-align: right;\">\n",
       "      <th></th>\n",
       "      <th></th>\n",
       "      <th>SITE_ID[KKI]</th>\n",
       "      <th>SITE_ID[LEUVEN_1]</th>\n",
       "      <th>SITE_ID[MAX_MUN]</th>\n",
       "      <th>SITE_ID[NYU]</th>\n",
       "      <th>SITE_ID[PITT]</th>\n",
       "      <th>SITE_ID[TRINITY]</th>\n",
       "      <th>SITE_ID[UCLA_1]</th>\n",
       "      <th>SITE_ID[UM_1]</th>\n",
       "      <th>SITE_ID[USM]</th>\n",
       "      <th>SITE_ID[YALE]</th>\n",
       "      <th>FD_scrubbed</th>\n",
       "      <th></th>\n",
       "    </tr>\n",
       "  </thead>\n",
       "  <tbody>\n",
       "    <tr>\n",
       "      <th>0</th>\n",
       "      <td>s50772</td>\n",
       "      <td>1.0</td>\n",
       "      <td>0.0</td>\n",
       "      <td>0.0</td>\n",
       "      <td>0.0</td>\n",
       "      <td>0.0</td>\n",
       "      <td>0.0</td>\n",
       "      <td>0.0</td>\n",
       "      <td>0.0</td>\n",
       "      <td>0.0</td>\n",
       "      <td>0.0</td>\n",
       "      <td>0.133364</td>\n",
       "      <td>s50772</td>\n",
       "    </tr>\n",
       "    <tr>\n",
       "      <th>1</th>\n",
       "      <td>s50774</td>\n",
       "      <td>1.0</td>\n",
       "      <td>0.0</td>\n",
       "      <td>0.0</td>\n",
       "      <td>0.0</td>\n",
       "      <td>0.0</td>\n",
       "      <td>0.0</td>\n",
       "      <td>0.0</td>\n",
       "      <td>0.0</td>\n",
       "      <td>0.0</td>\n",
       "      <td>0.0</td>\n",
       "      <td>0.153141</td>\n",
       "      <td>s50774</td>\n",
       "    </tr>\n",
       "    <tr>\n",
       "      <th>2</th>\n",
       "      <td>s50776</td>\n",
       "      <td>1.0</td>\n",
       "      <td>0.0</td>\n",
       "      <td>0.0</td>\n",
       "      <td>0.0</td>\n",
       "      <td>0.0</td>\n",
       "      <td>0.0</td>\n",
       "      <td>0.0</td>\n",
       "      <td>0.0</td>\n",
       "      <td>0.0</td>\n",
       "      <td>0.0</td>\n",
       "      <td>0.218636</td>\n",
       "      <td>s50776</td>\n",
       "    </tr>\n",
       "    <tr>\n",
       "      <th>3</th>\n",
       "      <td>s50777</td>\n",
       "      <td>1.0</td>\n",
       "      <td>0.0</td>\n",
       "      <td>0.0</td>\n",
       "      <td>0.0</td>\n",
       "      <td>0.0</td>\n",
       "      <td>0.0</td>\n",
       "      <td>0.0</td>\n",
       "      <td>0.0</td>\n",
       "      <td>0.0</td>\n",
       "      <td>0.0</td>\n",
       "      <td>0.159246</td>\n",
       "      <td>s50777</td>\n",
       "    </tr>\n",
       "    <tr>\n",
       "      <th>4</th>\n",
       "      <td>s50779</td>\n",
       "      <td>1.0</td>\n",
       "      <td>0.0</td>\n",
       "      <td>0.0</td>\n",
       "      <td>0.0</td>\n",
       "      <td>0.0</td>\n",
       "      <td>0.0</td>\n",
       "      <td>0.0</td>\n",
       "      <td>0.0</td>\n",
       "      <td>0.0</td>\n",
       "      <td>0.0</td>\n",
       "      <td>0.184077</td>\n",
       "      <td>s50779</td>\n",
       "    </tr>\n",
       "  </tbody>\n",
       "</table>\n",
       "</div>"
      ],
      "text/plain": [
       "           SITE_ID[KKI]  SITE_ID[LEUVEN_1]  SITE_ID[MAX_MUN]  SITE_ID[NYU]  \\\n",
       "0  s50772           1.0                0.0               0.0           0.0   \n",
       "1  s50774           1.0                0.0               0.0           0.0   \n",
       "2  s50776           1.0                0.0               0.0           0.0   \n",
       "3  s50777           1.0                0.0               0.0           0.0   \n",
       "4  s50779           1.0                0.0               0.0           0.0   \n",
       "\n",
       "   SITE_ID[PITT]  SITE_ID[TRINITY]  SITE_ID[UCLA_1]  SITE_ID[UM_1]  \\\n",
       "0            0.0               0.0              0.0            0.0   \n",
       "1            0.0               0.0              0.0            0.0   \n",
       "2            0.0               0.0              0.0            0.0   \n",
       "3            0.0               0.0              0.0            0.0   \n",
       "4            0.0               0.0              0.0            0.0   \n",
       "\n",
       "   SITE_ID[USM]  SITE_ID[YALE]  FD_scrubbed          \n",
       "0           0.0            0.0     0.133364  s50772  \n",
       "1           0.0            0.0     0.153141  s50774  \n",
       "2           0.0            0.0     0.218636  s50776  \n",
       "3           0.0            0.0     0.159246  s50777  \n",
       "4           0.0            0.0     0.184077  s50779  "
      ]
     },
     "execution_count": 5,
     "metadata": {},
     "output_type": "execute_result"
    }
   ],
   "source": [
    "glm_model.head()"
   ]
  },
  {
   "cell_type": "code",
   "execution_count": 6,
   "metadata": {},
   "outputs": [],
   "source": [
    "data = {'fmri':\n",
    "        {row['niak_sub']:\n",
    "         {'s1':\n",
    "          {'r1':os.path.join(remote_p, f_temp.format(row['SUB_ID']))}} \n",
    "         for rid, row in biv_c.iterrows()}\n",
    "       }"
   ]
  },
  {
   "cell_type": "code",
   "execution_count": 7,
   "metadata": {},
   "outputs": [],
   "source": [
    "# Create the model\n",
    "out_model_p = os.path.join(out_p, 'abide_glm_model.csv')\n",
    "# Save the model\n",
    "glm_model.to_csv(out_model_p, index=False)"
   ]
  },
  {
   "cell_type": "code",
   "execution_count": 11,
   "metadata": {},
   "outputs": [],
   "source": [
    "data['model'] = os.path.join('/gs/project/gsf-624-aa/data/abide_1/svip_connectome', 'abide_glm_model.csv')\n",
    "data['opt'] = {'fdr':0.05,\n",
    "               'test':{'biv_effect':{'group':{'contrast':contrasts}}},\n",
    "               'folder_out':os.path.join('/gs/project/gsf-624-aa/data/abide_1/glm', 'abide_biv_regressed')}"
   ]
  },
  {
   "cell_type": "code",
   "execution_count": 12,
   "metadata": {},
   "outputs": [],
   "source": [
    "# Save the data\n",
    "sio.savemat(os.path.join(out_p, 'data.mat'), data)"
   ]
  },
  {
   "cell_type": "code",
   "execution_count": 13,
   "metadata": {},
   "outputs": [
    {
     "data": {
      "text/plain": [
       "'/remote/guillimin/simdata/data/abide_1/svip_connectome'"
      ]
     },
     "execution_count": 13,
     "metadata": {},
     "output_type": "execute_result"
    }
   ],
   "source": [
    "out_p"
   ]
  },
  {
   "cell_type": "code",
   "execution_count": null,
   "metadata": {},
   "outputs": [],
   "source": []
  }
 ],
 "metadata": {
  "kernelspec": {
   "display_name": "Python 3",
   "language": "python",
   "name": "python3"
  },
  "language_info": {
   "codemirror_mode": {
    "name": "ipython",
    "version": 3
   },
   "file_extension": ".py",
   "mimetype": "text/x-python",
   "name": "python",
   "nbconvert_exporter": "python",
   "pygments_lexer": "ipython3",
   "version": "3.6.6"
  }
 },
 "nbformat": 4,
 "nbformat_minor": 2
}
