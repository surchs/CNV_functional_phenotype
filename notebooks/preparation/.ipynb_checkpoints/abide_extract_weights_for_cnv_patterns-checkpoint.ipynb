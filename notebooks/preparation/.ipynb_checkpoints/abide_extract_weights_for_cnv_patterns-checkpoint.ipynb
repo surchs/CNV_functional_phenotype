{
 "cells": [
  {
   "cell_type": "markdown",
   "metadata": {},
   "source": [
    "# ABIDE with 16p and 22q similarity\n",
    "Generates a table with the individual similarity scores"
   ]
  },
  {
   "cell_type": "code",
   "execution_count": 1,
   "metadata": {},
   "outputs": [],
   "source": [
    "import numpy as np\n",
    "import pandas as pd\n",
    "import patsy as pat\n",
    "import nibabel as nib\n",
    "import pathlib as pal\n",
    "import seaborn as sbn\n",
    "from scipy import io as sio\n",
    "from sklearn import linear_model as sln\n",
    "from matplotlib import pyplot as plt"
   ]
  },
  {
   "cell_type": "code",
   "execution_count": 4,
   "metadata": {},
   "outputs": [],
   "source": [
    "#root_p = pal.Path('/home/users/surchs/mnt/cedar_jacrrg/su_cm/paper_16p22q/')\n",
    "root_p = pal.Path('/home/surchs/mnt/stark_cisl/paper_16p22q/')\n",
    "dc16_p = root_p / 'glm/16p/cambridge64/del_minus_con/glm_del_minus_con_cambridge64.mat'\n",
    "dc22_p = root_p / 'glm/22q/cambridge64/del_minus_con/glm_del_minus_con_cambridge64.mat'\n",
    "\n",
    "abide_p = root_p / 'glm/abide/cambridge64/individual'\n",
    "conn_t = 'connectome_s{}_cambridge64.mat'\n",
    "pheno_p = root_p / 'pheno/abide_men.csv'\n",
    "labels_p = pal.Path('/home/surchs/mnt/stark_cisl/ATLAS/MIST/Parcel_Information/MIST_64.csv')"
   ]
  },
  {
   "cell_type": "code",
   "execution_count": 5,
   "metadata": {},
   "outputs": [],
   "source": [
    "# Get the pheno file\n",
    "pheno = pd.read_csv(pheno_p)\n",
    "labels = pd.read_csv(labels_p, delimiter=';')"
   ]
  },
  {
   "cell_type": "code",
   "execution_count": 6,
   "metadata": {},
   "outputs": [],
   "source": [
    "def octvec2mat(vec, mask):\n",
    "    \"\"\"\n",
    "    Takes a vector in Fortran style (Octave/Matlab)\n",
    "    and maps it back into a mask correctly in \n",
    "    python\n",
    "    \"\"\"\n",
    "    vec_mat = mask.flatten(order='F').astype(bool)\n",
    "    tmp = np.zeros_like(vec_mat, dtype=float)\n",
    "    tmp[vec_mat] = vec\n",
    "    vol = np.reshape(tmp, mask.shape, order='F')\n",
    "    return vol"
   ]
  },
  {
   "cell_type": "code",
   "execution_count": 7,
   "metadata": {},
   "outputs": [],
   "source": [
    "def vec2mat(vec, mask):\n",
    "    tmp_mat = octvec2mat(vec, mask)\n",
    "    tmp_mat += tmp_mat.T\n",
    "    tmp_mat[np.eye(mask.shape[0]).astype(bool)] = tmp_mat[np.eye(mask.shape[0]).astype(bool)]/2\n",
    "    return tmp_mat"
   ]
  },
  {
   "cell_type": "code",
   "execution_count": 14,
   "metadata": {},
   "outputs": [],
   "source": [
    "# Get the connectomes\n",
    "conn = np.array([sio.loadmat(str(abide_p / conn_t.format(row['SUB_ID'])))['asd_con']['connectome'][0][0]\n",
    "        for rid, row in pheno.iterrows()]).squeeze()"
   ]
  },
  {
   "cell_type": "code",
   "execution_count": 16,
   "metadata": {},
   "outputs": [],
   "source": [
    "# Prepare regression, with control as reference\n",
    "model = pat.dmatrix('SITE_ID+FD_scrubbed', data=pheno, return_type='dataframe')"
   ]
  },
  {
   "cell_type": "code",
   "execution_count": 17,
   "metadata": {},
   "outputs": [],
   "source": [
    "# Run the glm\n",
    "mod = sln.LinearRegression(fit_intercept=False, normalize=True)\n",
    "res = mod.fit(model, conn)\n",
    "# Get the residuals\n",
    "resid = conn - res.predict(model)"
   ]
  },
  {
   "cell_type": "code",
   "execution_count": 18,
   "metadata": {},
   "outputs": [],
   "source": [
    "resid_mat = np.array([vec2mat(resid[i, :], np.tril(np.ones((64,64))).astype(bool)) for i in range(resid.shape[0])])\n",
    "abide_mat = np.array([resid_mat[i, ...] + resid_mat[i, ...].T for i in range(resid_mat.shape[0])])\n",
    "# Remove duplicates on diagnonal\n",
    "diag = abide_mat[..., np.identity(64, dtype=bool)]\n",
    "abide_mat[..., np.identity(64, dtype=bool)] = diag/2"
   ]
  },
  {
   "cell_type": "code",
   "execution_count": 19,
   "metadata": {},
   "outputs": [],
   "source": [
    "# Get the reference\n",
    "dc16_pattern = np.array(sio.loadmat(dc16_p)['eff']).squeeze()\n",
    "# Map back to matrix\n",
    "dc16_refm = octvec2mat(dc16_pattern, np.tril(np.ones((64,64))).astype(bool))\n",
    "dc16_refm += dc16_refm.T\n",
    "dref = dc16_refm[np.identity(64, dtype=bool)]\n",
    "dc16_refm[np.identity(64, dtype=bool)] = dref/2"
   ]
  },
  {
   "cell_type": "code",
   "execution_count": 20,
   "metadata": {},
   "outputs": [],
   "source": [
    "# Get the reference\n",
    "dc22_pattern = np.array(sio.loadmat(dc22_p)['eff']).squeeze()\n",
    "# Map back to matrix\n",
    "dc22_refm = octvec2mat(dc22_pattern, np.tril(np.ones((64,64))).astype(bool))\n",
    "dc22_refm += dc22_refm.T\n",
    "dref = dc22_refm[np.identity(64, dtype=bool)]\n",
    "dc22_refm[np.identity(64, dtype=bool)] = dref/2"
   ]
  },
  {
   "cell_type": "code",
   "execution_count": 21,
   "metadata": {},
   "outputs": [],
   "source": [
    "# Make weights for each node\n",
    "w_abide_16p = np.zeros((abide_mat.shape[0], dc16_refm.shape[0]))\n",
    "for i in range(64):\n",
    "    for j in range(abide_mat.shape[0]):\n",
    "        w_abide_16p[j, i] = np.corrcoef(dc16_refm[i, :], abide_mat[j, i, :])[0,1]"
   ]
  },
  {
   "cell_type": "code",
   "execution_count": 22,
   "metadata": {},
   "outputs": [],
   "source": [
    "# Make weights for each node\n",
    "w_abide_22q = np.zeros((abide_mat.shape[0], dc22_refm.shape[0]))\n",
    "for i in range(64):\n",
    "    for j in range(abide_mat.shape[0]):\n",
    "        w_abide_22q[j, i] = np.corrcoef(dc22_refm[i, :], abide_mat[j, i, :])[0,1]"
   ]
  },
  {
   "cell_type": "code",
   "execution_count": 23,
   "metadata": {},
   "outputs": [],
   "source": [
    "table_abide_16p = pd.DataFrame(data=w_abide_16p, index=pheno.DX_GROUP, columns=labels.label)\n",
    "table_abide_22q = pd.DataFrame(data=w_abide_22q, index=pheno.DX_GROUP, columns=labels.label)"
   ]
  },
  {
   "cell_type": "code",
   "execution_count": 25,
   "metadata": {},
   "outputs": [],
   "source": [
    "table_abide_16p.to_csv('/home/surchs/abide_16p_similarity.tsv', sep='\\t')\n",
    "table_abide_22q.to_csv('/home/surchs/abide_22q_similarity.tsv', sep='\\t')"
   ]
  },
  {
   "cell_type": "code",
   "execution_count": null,
   "metadata": {},
   "outputs": [],
   "source": []
  }
 ],
 "metadata": {
  "kernelspec": {
   "display_name": "p36 (svip)",
   "language": "python",
   "name": "svip"
  },
  "language_info": {
   "codemirror_mode": {
    "name": "ipython",
    "version": 3
   },
   "file_extension": ".py",
   "mimetype": "text/x-python",
   "name": "python",
   "nbconvert_exporter": "python",
   "pygments_lexer": "ipython3",
   "version": "3.6.6"
  }
 },
 "nbformat": 4,
 "nbformat_minor": 2
}
