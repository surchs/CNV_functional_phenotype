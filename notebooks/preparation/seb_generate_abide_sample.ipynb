{
 "cells": [
  {
   "cell_type": "markdown",
   "metadata": {},
   "source": [
    "## Define the big ABIDE sample\n",
    "No PSM, no other limitations. Anything that passes QC."
   ]
  },
  {
   "cell_type": "code",
   "execution_count": 1,
   "metadata": {},
   "outputs": [],
   "source": [
    "import numpy as np\n",
    "import pandas as pd\n",
    "import pathlib as pal"
   ]
  },
  {
   "cell_type": "code",
   "execution_count": 4,
   "metadata": {},
   "outputs": [],
   "source": [
    "#root_p = pal.Path('/mnt/stark_cisl/paper_16p22q/pheno/')\n",
    "root_p = pal.Path('/home/surchs/data/paper_16p22q/pheno/')\n",
    "sample_p = root_p / 'abide_1_complete.csv'\n",
    "new_sample_p = root_p / 'abide_men.csv'"
   ]
  },
  {
   "cell_type": "code",
   "execution_count": 5,
   "metadata": {},
   "outputs": [],
   "source": [
    "sample = pd.read_csv(sample_p)\n",
    "# Strip whitespace from the ratings\n",
    "sample['func'] = sample['func'].str.strip()\n",
    "sample['anat'] = sample['anat'].str.strip()"
   ]
  },
  {
   "cell_type": "code",
   "execution_count": 6,
   "metadata": {},
   "outputs": [
    {
     "data": {
      "text/html": [
       "<div>\n",
       "<style scoped>\n",
       "    .dataframe tbody tr th:only-of-type {\n",
       "        vertical-align: middle;\n",
       "    }\n",
       "\n",
       "    .dataframe tbody tr th {\n",
       "        vertical-align: top;\n",
       "    }\n",
       "\n",
       "    .dataframe thead th {\n",
       "        text-align: right;\n",
       "    }\n",
       "</style>\n",
       "<table border=\"1\" class=\"dataframe\">\n",
       "  <thead>\n",
       "    <tr style=\"text-align: right;\">\n",
       "      <th></th>\n",
       "      <th>Civet_ID</th>\n",
       "      <th>Manual_Rating</th>\n",
       "      <th>Site</th>\n",
       "      <th>Subject</th>\n",
       "      <th>Session</th>\n",
       "      <th>Run</th>\n",
       "      <th>SUB_ID</th>\n",
       "      <th>Ratings</th>\n",
       "      <th>id_subject</th>\n",
       "      <th>status</th>\n",
       "      <th>...</th>\n",
       "      <th>WISC_IV_CODING_SCALED</th>\n",
       "      <th>WISC_IV_SYM_SCALED</th>\n",
       "      <th>EYE_STATUS_AT_SCAN</th>\n",
       "      <th>AGE_AT_MPRAGE</th>\n",
       "      <th>BMI</th>\n",
       "      <th>BV</th>\n",
       "      <th>ct_available</th>\n",
       "      <th>fc_available</th>\n",
       "      <th>in_psm</th>\n",
       "      <th>Gotham_Severity</th>\n",
       "    </tr>\n",
       "  </thead>\n",
       "  <tbody>\n",
       "    <tr>\n",
       "      <th>0</th>\n",
       "      <td>Caltech+0051456+session_1+anat_1</td>\n",
       "      <td>-1 (gradient too high around sensorimotor str...</td>\n",
       "      <td>Caltech</td>\n",
       "      <td>51456</td>\n",
       "      <td>session_1</td>\n",
       "      <td>anat_1</td>\n",
       "      <td>51456</td>\n",
       "      <td>2</td>\n",
       "      <td>X0051456</td>\n",
       "      <td>Fail</td>\n",
       "      <td>...</td>\n",
       "      <td>NaN</td>\n",
       "      <td>NaN</td>\n",
       "      <td>Closed</td>\n",
       "      <td>NaN</td>\n",
       "      <td>NaN</td>\n",
       "      <td>1218639.0</td>\n",
       "      <td>True</td>\n",
       "      <td>True</td>\n",
       "      <td>False</td>\n",
       "      <td>5.0</td>\n",
       "    </tr>\n",
       "    <tr>\n",
       "      <th>1</th>\n",
       "      <td>Caltech+0051457+session_1+anat_1</td>\n",
       "      <td>-1 (gradient too high around sm strip and to ...</td>\n",
       "      <td>Caltech</td>\n",
       "      <td>51457</td>\n",
       "      <td>session_1</td>\n",
       "      <td>anat_1</td>\n",
       "      <td>51457</td>\n",
       "      <td>2</td>\n",
       "      <td>X0051457</td>\n",
       "      <td>Fail</td>\n",
       "      <td>...</td>\n",
       "      <td>NaN</td>\n",
       "      <td>NaN</td>\n",
       "      <td>Closed</td>\n",
       "      <td>NaN</td>\n",
       "      <td>NaN</td>\n",
       "      <td>1430570.0</td>\n",
       "      <td>True</td>\n",
       "      <td>True</td>\n",
       "      <td>False</td>\n",
       "      <td>4.0</td>\n",
       "    </tr>\n",
       "    <tr>\n",
       "      <th>2</th>\n",
       "      <td>Caltech+0051458+session_1+anat_1</td>\n",
       "      <td>-1 (slightly too high gradient on sm strip</td>\n",
       "      <td>Caltech</td>\n",
       "      <td>51458</td>\n",
       "      <td>session_1</td>\n",
       "      <td>anat_1</td>\n",
       "      <td>51458</td>\n",
       "      <td>2</td>\n",
       "      <td>X0051458</td>\n",
       "      <td>Fail</td>\n",
       "      <td>...</td>\n",
       "      <td>NaN</td>\n",
       "      <td>NaN</td>\n",
       "      <td>Closed</td>\n",
       "      <td>NaN</td>\n",
       "      <td>NaN</td>\n",
       "      <td>1222213.0</td>\n",
       "      <td>True</td>\n",
       "      <td>True</td>\n",
       "      <td>False</td>\n",
       "      <td>10.0</td>\n",
       "    </tr>\n",
       "    <tr>\n",
       "      <th>3</th>\n",
       "      <td>Caltech+0051459+session_1+anat_1</td>\n",
       "      <td>-1 (more problematic in V1 than in sm strip; ...</td>\n",
       "      <td>Caltech</td>\n",
       "      <td>51459</td>\n",
       "      <td>session_1</td>\n",
       "      <td>anat_1</td>\n",
       "      <td>51459</td>\n",
       "      <td>2</td>\n",
       "      <td>X0051459</td>\n",
       "      <td>Maybe</td>\n",
       "      <td>...</td>\n",
       "      <td>NaN</td>\n",
       "      <td>NaN</td>\n",
       "      <td>Closed</td>\n",
       "      <td>NaN</td>\n",
       "      <td>NaN</td>\n",
       "      <td>1264665.0</td>\n",
       "      <td>True</td>\n",
       "      <td>True</td>\n",
       "      <td>False</td>\n",
       "      <td>7.0</td>\n",
       "    </tr>\n",
       "    <tr>\n",
       "      <th>4</th>\n",
       "      <td>Caltech+0051460+session_1+anat_1</td>\n",
       "      <td>-1 (V1 worse than sm strip)</td>\n",
       "      <td>Caltech</td>\n",
       "      <td>51460</td>\n",
       "      <td>session_1</td>\n",
       "      <td>anat_1</td>\n",
       "      <td>51460</td>\n",
       "      <td>2</td>\n",
       "      <td>X0051460</td>\n",
       "      <td>Fail</td>\n",
       "      <td>...</td>\n",
       "      <td>NaN</td>\n",
       "      <td>NaN</td>\n",
       "      <td>Closed</td>\n",
       "      <td>NaN</td>\n",
       "      <td>NaN</td>\n",
       "      <td>1158337.0</td>\n",
       "      <td>True</td>\n",
       "      <td>True</td>\n",
       "      <td>False</td>\n",
       "      <td>7.0</td>\n",
       "    </tr>\n",
       "  </tbody>\n",
       "</table>\n",
       "<p>5 rows × 96 columns</p>\n",
       "</div>"
      ],
      "text/plain": [
       "                           Civet_ID  \\\n",
       "0  Caltech+0051456+session_1+anat_1   \n",
       "1  Caltech+0051457+session_1+anat_1   \n",
       "2  Caltech+0051458+session_1+anat_1   \n",
       "3  Caltech+0051459+session_1+anat_1   \n",
       "4  Caltech+0051460+session_1+anat_1   \n",
       "\n",
       "                                       Manual_Rating     Site  Subject  \\\n",
       "0   -1 (gradient too high around sensorimotor str...  Caltech    51456   \n",
       "1   -1 (gradient too high around sm strip and to ...  Caltech    51457   \n",
       "2         -1 (slightly too high gradient on sm strip  Caltech    51458   \n",
       "3   -1 (more problematic in V1 than in sm strip; ...  Caltech    51459   \n",
       "4                        -1 (V1 worse than sm strip)  Caltech    51460   \n",
       "\n",
       "     Session     Run  SUB_ID  Ratings id_subject status       ...        \\\n",
       "0  session_1  anat_1   51456        2  X0051456    Fail       ...         \n",
       "1  session_1  anat_1   51457        2  X0051457    Fail       ...         \n",
       "2  session_1  anat_1   51458        2  X0051458    Fail       ...         \n",
       "3  session_1  anat_1   51459        2  X0051459   Maybe       ...         \n",
       "4  session_1  anat_1   51460        2  X0051460    Fail       ...         \n",
       "\n",
       "  WISC_IV_CODING_SCALED WISC_IV_SYM_SCALED EYE_STATUS_AT_SCAN AGE_AT_MPRAGE  \\\n",
       "0                   NaN                NaN             Closed           NaN   \n",
       "1                   NaN                NaN             Closed           NaN   \n",
       "2                   NaN                NaN             Closed           NaN   \n",
       "3                   NaN                NaN             Closed           NaN   \n",
       "4                   NaN                NaN             Closed           NaN   \n",
       "\n",
       "   BMI         BV  ct_available  fc_available in_psm Gotham_Severity  \n",
       "0  NaN  1218639.0          True          True  False             5.0  \n",
       "1  NaN  1430570.0          True          True  False             4.0  \n",
       "2  NaN  1222213.0          True          True  False            10.0  \n",
       "3  NaN  1264665.0          True          True  False             7.0  \n",
       "4  NaN  1158337.0          True          True  False             7.0  \n",
       "\n",
       "[5 rows x 96 columns]"
      ]
     },
     "execution_count": 6,
     "metadata": {},
     "output_type": "execute_result"
    }
   ],
   "source": [
    "sample.head()"
   ]
  },
  {
   "cell_type": "code",
   "execution_count": 7,
   "metadata": {},
   "outputs": [
    {
     "data": {
      "text/plain": [
       "(1107, 96)"
      ]
     },
     "execution_count": 7,
     "metadata": {},
     "output_type": "execute_result"
    }
   ],
   "source": [
    "sample.shape"
   ]
  },
  {
   "cell_type": "code",
   "execution_count": 8,
   "metadata": {},
   "outputs": [],
   "source": [
    "qc_pass = (sample['func'].values=='OK') * (sample['anat'].values=='OK')\n",
    "sample_qc = sample.loc[qc_pass]"
   ]
  },
  {
   "cell_type": "code",
   "execution_count": 9,
   "metadata": {},
   "outputs": [],
   "source": [
    "men = sample_qc.loc[[True if row.SEX==1 else False for rid, row in sample_qc.iterrows()]]\n",
    "# Get rid of everyone that isn't unique\n",
    "duplicate_subjects = [sub for sub in men.Subject.unique() \n",
    "                      if men.loc[men.Subject==sub].shape[0]>1]\n",
    "duplicate_mask = [False if row.Subject in duplicate_subjects else True for rid, row in men.iterrows()]\n",
    "men_unique = men.loc[duplicate_mask]\n",
    "good_sites = [site for site in men_unique.SITE_ID.unique() if men_unique.SITE_ID.value_counts()[site] > 10]\n",
    "pheno_men = men_unique.loc[[True if row.SITE_ID in good_sites else False for rid, row in men_unique.iterrows()]]"
   ]
  },
  {
   "cell_type": "code",
   "execution_count": 10,
   "metadata": {},
   "outputs": [],
   "source": [
    "#pheno_men.to_csv(str(new_sample_p), index=False)"
   ]
  },
  {
   "cell_type": "code",
   "execution_count": 11,
   "metadata": {},
   "outputs": [
    {
     "data": {
      "text/plain": [
       "(459, 96)"
      ]
     },
     "execution_count": 11,
     "metadata": {},
     "output_type": "execute_result"
    }
   ],
   "source": [
    "pheno_men.shape"
   ]
  },
  {
   "cell_type": "code",
   "execution_count": 12,
   "metadata": {},
   "outputs": [
    {
     "data": {
      "text/plain": [
       "SITE_ID   DX_GROUP\n",
       "KKI       Control     22\n",
       "          Autism      14\n",
       "LEUVEN_1  Autism       6\n",
       "          Control      5\n",
       "MAX_MUN   Control     11\n",
       "          Autism       9\n",
       "NYU       Control     66\n",
       "          Autism      59\n",
       "OLIN      Autism       9\n",
       "          Control      8\n",
       "SDSU      Control     13\n",
       "          Autism       8\n",
       "TRINITY   Control     25\n",
       "          Autism      24\n",
       "UCLA_1    Autism      28\n",
       "          Control     24\n",
       "UCLA_2    Autism       6\n",
       "          Control      5\n",
       "UM_1      Autism      10\n",
       "          Control     10\n",
       "USM       Autism      34\n",
       "          Control     30\n",
       "YALE      Autism      18\n",
       "          Control     15\n",
       "Name: DX_GROUP, dtype: int64"
      ]
     },
     "execution_count": 12,
     "metadata": {},
     "output_type": "execute_result"
    }
   ],
   "source": [
    "pheno_men.groupby('SITE_ID').DX_GROUP.value_counts()"
   ]
  },
  {
   "cell_type": "code",
   "execution_count": 14,
   "metadata": {},
   "outputs": [
    {
     "data": {
      "text/plain": [
       "Control    234\n",
       "Autism     225\n",
       "Name: DX_GROUP, dtype: int64"
      ]
     },
     "execution_count": 14,
     "metadata": {},
     "output_type": "execute_result"
    }
   ],
   "source": [
    "pheno_men.DX_GROUP.value_counts()"
   ]
  },
  {
   "cell_type": "code",
   "execution_count": null,
   "metadata": {},
   "outputs": [],
   "source": []
  }
 ],
 "metadata": {
  "kernelspec": {
   "display_name": "p36 (svip)",
   "language": "python",
   "name": "svip"
  },
  "language_info": {
   "codemirror_mode": {
    "name": "ipython",
    "version": 3
   },
   "file_extension": ".py",
   "mimetype": "text/x-python",
   "name": "python",
   "nbconvert_exporter": "python",
   "pygments_lexer": "ipython3",
   "version": "3.6.6"
  }
 },
 "nbformat": 4,
 "nbformat_minor": 2
}
