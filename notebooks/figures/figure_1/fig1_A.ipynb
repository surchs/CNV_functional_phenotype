{
 "cells": [
  {
   "cell_type": "markdown",
   "metadata": {},
   "source": [
    "# Figure 1 A\n",
    "Heatmap of 16p DEL vs DUP"
   ]
  },
  {
   "cell_type": "code",
   "execution_count": 1,
   "metadata": {},
   "outputs": [],
   "source": [
    "%matplotlib inline"
   ]
  },
  {
   "cell_type": "code",
   "execution_count": 2,
   "metadata": {},
   "outputs": [],
   "source": [
    "import os\n",
    "import numpy as np\n",
    "import pandas as pd\n",
    "import seaborn as sbn\n",
    "import nibabel as nib\n",
    "import pathlib as pal\n",
    "from scipy import io as sio\n",
    "from matplotlib import pyplot as plt"
   ]
  },
  {
   "cell_type": "code",
   "execution_count": 9,
   "metadata": {},
   "outputs": [],
   "source": [
    "# Paths\n",
    "#root_p = '/project/6008022/su_cm/paper_16p22q/'\n",
    "root_p = pal.Path('/home/surchs/data/')\n",
    "dc22_p = root_p / 'paper_16p22q/glm/22q/cambridge64/del_minus_con/glm_del_minus_con_cambridge64.mat'\n",
    "dp22_p = root_p / 'paper_16p22q/glm/22q/cambridge64/dup_minus_con/glm_dup_minus_con_cambridge64.mat'\n",
    "dc16_p = root_p / 'paper_16p22q/glm/16p_age/cambridge64/del_minus_con/glm_del_minus_con_cambridge64.mat'\n",
    "dp16_p = root_p / 'paper_16p22q/glm/16p_age/cambridge64/dup_minus_con/glm_dup_minus_con_cambridge64.mat'\n",
    "\n",
    "labels_p = root_p / 'ATLAS/MIST/Parcel_Information/MIST_64.csv'\n",
    "hier_p = root_p / 'ATLAS/MIST/Hierarchy/MIST_PARCEL_ORDER.csv'\n",
    "temp_p = root_p / 'ATLAS/MIST/Parcellations/MIST_64.nii.gz'\n",
    "figure_p = root_p / 'paper_16p22q/figures/fig1/'"
   ]
  },
  {
   "cell_type": "code",
   "execution_count": 10,
   "metadata": {},
   "outputs": [],
   "source": [
    "# Load the MIST64 template\n",
    "temp_i = nib.load(str(temp_p))\n",
    "mist64 = temp_i.get_data()\n",
    "# Get the parcel info\n",
    "label = pd.read_csv(labels_p, delimiter=';')\n",
    "hier = pd.read_csv(hier_p)"
   ]
  },
  {
   "cell_type": "code",
   "execution_count": 11,
   "metadata": {},
   "outputs": [],
   "source": [
    "# Get all the patterns and pd\n",
    "dc16_pattern = np.array(sio.loadmat(dc16_p)['eff']).squeeze()\n",
    "dp16_pattern = np.array(sio.loadmat(dp16_p)['eff']).squeeze()\n",
    "dc16_pd = np.array(sio.loadmat(dc16_p)['perc_discovery']).squeeze()\n",
    "dp16_pd = np.array(sio.loadmat(dp16_p)['perc_discovery']).squeeze()"
   ]
  },
  {
   "cell_type": "code",
   "execution_count": 12,
   "metadata": {},
   "outputs": [
    {
     "name": "stderr",
     "output_type": "stream",
     "text": [
      "/home/surchs/conda/envs/svip/lib/python3.6/site-packages/seaborn/axisgrid.py:2262: UserWarning: The `size` paramter has been renamed to `height`; please update your code.\n",
      "  warnings.warn(msg, UserWarning)\n"
     ]
    },
    {
     "data": {
      "image/png": "[encoded data removed]",
      "text/plain": [
       "<Figure size 170.079x170.079 with 3 Axes>"
      ]
     },
     "metadata": {
      "needs_background": "light"
     },
     "output_type": "display_data"
    }
   ],
   "source": [
    "# Plot the heatmap for 16p\n",
    "f_width = 60/25.4\n",
    "g = sbn.jointplot(x=dp16_pattern, y=dc16_pattern, kind='hex', ylim=(-0.3, 0.3), xlim=(-0.3, 0.3), joint_kws={\"extent\": (-0.3, 0.3, -0.3, 0.3)},\n",
    "                 stat_func=None, size=f_width)\n",
    "g.ax_joint.plot([0, 0], [-0.3, 0.3], 'k')\n",
    "g.ax_joint.plot([-0.3, 0.3], [0, 0], 'k')\n",
    "#tmp = g.ax_joint.set(xlabel='$\\Delta$ FC in 16p DUP', ylabel='$\\Delta$ FC in 16p DEL')\n",
    "#tmp = g.ax_joint.set(xlabel='DUP', ylabel='DEL')\n",
    "tmp = g.ax_joint.set_xticklabels(g.ax_joint.get_xticklabels(), fontsize=8)\n",
    "tmp = g.ax_joint.set_yticklabels(g.ax_joint.get_yticklabels(), fontsize=8)\n",
    "tmp = g.ax_joint.set_xlabel('DUP', fontsize=12)\n",
    "tmp = g.ax_joint.set_ylabel('DEL', fontsize=12)\n",
    "g.savefig(os.path.join(figure_p, 'figure_1_A.pdf'), dpi=300, transparent=True)"
   ]
  },
  {
   "cell_type": "code",
   "execution_count": 13,
   "metadata": {},
   "outputs": [
    {
     "name": "stderr",
     "output_type": "stream",
     "text": [
      "/home/surchs/conda/envs/svip/lib/python3.6/site-packages/seaborn/axisgrid.py:2262: UserWarning: The `size` paramter has been renamed to `height`; please update your code.\n",
      "  warnings.warn(msg, UserWarning)\n"
     ]
    },
    {
     "data": {
      "image/png": "[encoded data removed]",
      "text/plain": [
       "<Figure size 170.079x170.079 with 3 Axes>"
      ]
     },
     "metadata": {
      "needs_background": "light"
     },
     "output_type": "display_data"
    }
   ],
   "source": [
    "# Plot the heatmap for 16p in high_res\n",
    "f_width = 60/25.4\n",
    "g = sbn.jointplot(x=dp16_pattern, y=dc16_pattern, kind='hex', ylim=(-0.3, 0.3), xlim=(-0.3, 0.3), joint_kws={\"extent\": (-0.3, 0.3, -0.3, 0.3)},\n",
    "                 stat_func=None, size=f_width)\n",
    "g.ax_joint.plot([0, 0], [-0.3, 0.3], 'k')\n",
    "g.ax_joint.plot([-0.3, 0.3], [0, 0], 'k')\n",
    "#tmp = g.ax_joint.set(xlabel='$\\Delta$ FC in 16p DUP', ylabel='$\\Delta$ FC in 16p DEL')\n",
    "#tmp = g.ax_joint.set(xlabel='DUP', ylabel='DEL')\n",
    "tmp = g.ax_joint.set_xticklabels(g.ax_joint.get_xticklabels(), fontsize=8)\n",
    "tmp = g.ax_joint.set_yticklabels(g.ax_joint.get_yticklabels(), fontsize=8)\n",
    "tmp = g.ax_joint.set_xlabel('DUP', fontsize=12)\n",
    "tmp = g.ax_joint.set_ylabel('DEL', fontsize=12)\n",
    "g.savefig(os.path.join(figure_p, 'figure_1_A.pdf'), dpi=300, transparent=True)"
   ]
  }
 ],
 "metadata": {
  "kernelspec": {
   "display_name": "p36 (svip)",
   "language": "python",
   "name": "svip"
  },
  "language_info": {
   "codemirror_mode": {
    "name": "ipython",
    "version": 3
   },
   "file_extension": ".py",
   "mimetype": "text/x-python",
   "name": "python",
   "nbconvert_exporter": "python",
   "pygments_lexer": "ipython3",
   "version": "3.6.6"
  }
 },
 "nbformat": 4,
 "nbformat_minor": 2
}
