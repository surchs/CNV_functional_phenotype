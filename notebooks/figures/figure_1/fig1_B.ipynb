{
 "cells": [
  {
   "cell_type": "markdown",
   "metadata": {},
   "source": [
    "# Figure 1 B\n",
    "Overview of the top percent discovery regions and how many altered connections they relate to."
   ]
  },
  {
   "cell_type": "code",
   "execution_count": 1,
   "metadata": {},
   "outputs": [],
   "source": [
    "%matplotlib inline"
   ]
  },
  {
   "cell_type": "code",
   "execution_count": 2,
   "metadata": {},
   "outputs": [],
   "source": [
    "import os\n",
    "import numpy as np\n",
    "import pandas as pd\n",
    "import seaborn as sbn\n",
    "import nibabel as nib\n",
    "import matplotlib as mpl\n",
    "from scipy import io as sio\n",
    "from matplotlib import pyplot as plt"
   ]
  },
  {
   "cell_type": "code",
   "execution_count": 3,
   "metadata": {},
   "outputs": [],
   "source": [
    "# Paths\n",
    "root_p = '/project/6008022/su_cm/paper_16p22q/'\n",
    "dc22_p = os.path.join(root_p, 'glm/22q/cambridge64/del_minus_con/glm_del_minus_con_cambridge64.mat')\n",
    "dp22_p = os.path.join(root_p, 'glm/22q/cambridge64/dup_minus_con/glm_dup_minus_con_cambridge64.mat')\n",
    "dc16_p = os.path.join(root_p, 'glm/16p/cambridge64/del_minus_con/glm_del_minus_con_cambridge64.mat')\n",
    "dp16_p = os.path.join(root_p, 'glm/16p/cambridge64/dup_minus_con/glm_dup_minus_con_cambridge64.mat')\n",
    "\n",
    "labels_p = '/home/surchs/sim_big/ATLAS/MIST/Parcel_Information/MIST_64.csv'\n",
    "hier_p = '/home/surchs/sim_big/ATLAS/MIST/Hierarchy/MIST_PARCEL_ORDER.csv'\n",
    "temp_p = '/project/6003287/ATLAS/MIST/Parcellations/MIST_64.nii.gz'\n",
    "figure_p = '/project/6008022/su_cm/paper_16p22q/figures/fig1/'"
   ]
  },
  {
   "cell_type": "code",
   "execution_count": 4,
   "metadata": {},
   "outputs": [],
   "source": [
    "# Load the MIST64 template\n",
    "temp_i = nib.load(temp_p)\n",
    "mist64 = temp_i.get_data()\n",
    "# Get the parcel info\n",
    "label = pd.read_csv(labels_p, delimiter=';')\n",
    "hier = pd.read_csv(hier_p)"
   ]
  },
  {
   "cell_type": "code",
   "execution_count": 5,
   "metadata": {},
   "outputs": [],
   "source": [
    "# Get all the patterns and pd\n",
    "dc16_pd = np.array(sio.loadmat(dc16_p)['perc_discovery']).squeeze()\n",
    "dp16_pd = np.array(sio.loadmat(dp16_p)['perc_discovery']).squeeze()\n",
    "dc16_fdr = np.array(sio.loadmat(dc16_p)['fdr']).squeeze()\n",
    "dp16_fdr = np.array(sio.loadmat(dp16_p)['fdr']).squeeze()"
   ]
  },
  {
   "cell_type": "markdown",
   "metadata": {},
   "source": [
    "## Make the plot"
   ]
  },
  {
   "cell_type": "code",
   "execution_count": 6,
   "metadata": {},
   "outputs": [],
   "source": [
    "# Set the values to what I am looking for\n",
    "pd = dc16_pd\n",
    "fdr = dc16_fdr"
   ]
  },
  {
   "cell_type": "code",
   "execution_count": 7,
   "metadata": {},
   "outputs": [],
   "source": [
    "# Sort it and then revert the order so they go from big to small\n",
    "ind = np.argsort(pd)[::-1]\n",
    "# Compute the percent of significant connections as a function of the number of\n",
    "# regions\n",
    "fdr_mask = np.copy(fdr)\n",
    "fdr_mask[np.tril(np.ones((64,64)).astype(bool),-1)] = 1\n",
    "total_sig = np.sum(fdr[np.triu(np.ones((64,64)).astype(bool))]<0.05)\n",
    "perc_top = np.zeros(64)\n",
    "perc_joint = np.zeros(64)\n",
    "for i in range(64):\n",
    "    top_mask = np.zeros_like(fdr).astype(bool)\n",
    "    joint_mask = np.zeros_like(fdr).astype(bool)\n",
    "    top_mask[ind[:i+1], :] = True\n",
    "    top_mask[:, ind[:i+1]] = True\n",
    "    joint_mask[np.meshgrid(ind[:i+1], ind[:i+1])] = True\n",
    "    perc_top[i] = np.sum(fdr_mask[top_mask]<0.05)/total_sig\n",
    "    perc_joint[i] = np.sum(fdr_mask[joint_mask]<0.05)/total_sig"
   ]
  },
  {
   "cell_type": "code",
   "execution_count": 8,
   "metadata": {},
   "outputs": [],
   "source": [
    "def set_size(w,h, ax=None):\n",
    "    \"\"\" w, h: width, height in inches \"\"\"\n",
    "    if not ax: ax=plt.gca()\n",
    "    l = ax.figure.subplotpars.left\n",
    "    r = ax.figure.subplotpars.right\n",
    "    t = ax.figure.subplotpars.top\n",
    "    b = ax.figure.subplotpars.bottom\n",
    "    figw = float(w)/(r-l)\n",
    "    figh = float(h)/(t-b)\n",
    "    ax.figure.set_size_inches(figw, figh)"
   ]
  },
  {
   "cell_type": "code",
   "execution_count": 30,
   "metadata": {},
   "outputs": [],
   "source": [
    "# Rehash names\n",
    "temp_names = ['Caudate', 'Putamen', 'Motor', 'Orbfront', '','']"
   ]
  },
  {
   "cell_type": "code",
   "execution_count": 55,
   "metadata": {},
   "outputs": [
    {
     "data": {
      "image/png": "[encoded data removed]",
      "text/plain": [
       "<Figure size 113.386x136.063 with 1 Axes>"
      ]
     },
     "metadata": {},
     "output_type": "display_data"
    }
   ],
   "source": [
    "# Show that\n",
    "n_show = 6\n",
    "top_x = 4\n",
    "f_width = 40/25.4\n",
    "f_height = 48/25.4\n",
    "f = plt.figure(figsize=(f_width,f_height), constrained_layout=True)\n",
    "#ax = f.add_axes([0.4, 0.5, 0.6, 0.5])\n",
    "ax = f.add_subplot(111)\n",
    "p = ax.plot(range(64), perc_top)\n",
    "ax.fill_between(np.arange(top_x), 0, perc_top[:top_x], color='steelblue', alpha=0.3)\n",
    "ax.set_ylim([0, 1.05])\n",
    "ax.set_yticks(np.arange(0,1,0.1), minor=True)\n",
    "ax.set_xlim([0, n_show-1])\n",
    "ax.set_xticks(range(n_show))\n",
    "ax.vlines(top_x-1, 0, perc_top[top_x-1] , color='red')\n",
    "ax.hlines(perc_top[top_x-1], 0, top_x-1, color='red')\n",
    "#tmp = ax.set_xticklabels(label.label.values[ind], rotation=90)\n",
    "tmp = ax.set_xticklabels(temp_names, rotation=60, fontsize=12, ha=\"right\", rotation_mode=\"anchor\")\n",
    "ax.set_yticklabels([0, 0.5, 1], fontsize=8)\n",
    "ax.grid(which='minor', alpha=0.2)\n",
    "ax.grid(which='major', alpha=0.5)\n",
    "ax.set_ylabel('% of $\\Delta$ FC', fontsize=12)\n",
    "ax.spines['top'].set_visible(False)\n",
    "ax.spines['right'].set_visible(False)\n",
    "\n",
    "f.savefig(os.path.join(figure_p, 'figure_1_B.pdf'), dpi=300, transparent=True)"
   ]
  },
  {
   "cell_type": "code",
   "execution_count": null,
   "metadata": {},
   "outputs": [],
   "source": []
  }
 ],
 "metadata": {
  "kernelspec": {
   "display_name": "p36 (16p)",
   "language": "python",
   "name": "p16p"
  },
  "language_info": {
   "codemirror_mode": {
    "name": "ipython",
    "version": 3
   },
   "file_extension": ".py",
   "mimetype": "text/x-python",
   "name": "python",
   "nbconvert_exporter": "python",
   "pygments_lexer": "ipython3",
   "version": "3.6.5"
  }
 },
 "nbformat": 4,
 "nbformat_minor": 2
}
