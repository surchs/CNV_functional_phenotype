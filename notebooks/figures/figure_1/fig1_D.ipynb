{
 "cells": [
  {
   "cell_type": "markdown",
   "metadata": {},
   "source": [
    "# Figure 1 D\n",
    "Heatmap of 22q DEL vs DUP"
   ]
  },
  {
   "cell_type": "code",
   "execution_count": 2,
   "metadata": {},
   "outputs": [],
   "source": [
    "%matplotlib inline"
   ]
  },
  {
   "cell_type": "code",
   "execution_count": 3,
   "metadata": {},
   "outputs": [],
   "source": [
    "import os\n",
    "import numpy as np\n",
    "import pandas as pd\n",
    "import seaborn as sbn\n",
    "import nibabel as nib\n",
    "import matplotlib as mpl\n",
    "from scipy import io as sio\n",
    "from matplotlib import pyplot as plt"
   ]
  },
  {
   "cell_type": "code",
   "execution_count": 4,
   "metadata": {},
   "outputs": [],
   "source": [
    "# Set some parameters for the figures\n",
    "#font = {'family' : 'Arial',\n",
    "#        'size' : 12\n",
    "##       }\n",
    "#mpl.rc('font', **font)"
   ]
  },
  {
   "cell_type": "code",
   "execution_count": 5,
   "metadata": {},
   "outputs": [],
   "source": [
    "# Paths\n",
    "root_p = '/project/6008022/su_cm/paper_16p22q/'\n",
    "dc22_p = os.path.join(root_p, 'glm/22q/cambridge64/del_minus_con/glm_del_minus_con_cambridge64.mat')\n",
    "dp22_p = os.path.join(root_p, 'glm/22q/cambridge64/dup_minus_con/glm_dup_minus_con_cambridge64.mat')\n",
    "dc16_p = os.path.join(root_p, 'glm/16p/cambridge64/del_minus_con/glm_del_minus_con_cambridge64.mat')\n",
    "dp16_p = os.path.join(root_p, 'glm/16p/cambridge64/dup_minus_con/glm_dup_minus_con_cambridge64.mat')\n",
    "\n",
    "labels_p = '/home/surchs/sim_big/ATLAS/MIST/Parcel_Information/MIST_64.csv'\n",
    "hier_p = '/home/surchs/sim_big/ATLAS/MIST/Hierarchy/MIST_PARCEL_ORDER.csv'\n",
    "temp_p = '/project/6003287/ATLAS/MIST/Parcellations/MIST_64.nii.gz'\n",
    "figure_p = '/project/6008022/su_cm/paper_16p22q/figures/fig1/'"
   ]
  },
  {
   "cell_type": "code",
   "execution_count": 6,
   "metadata": {},
   "outputs": [],
   "source": [
    "# Load the MIST64 template\n",
    "temp_i = nib.load(temp_p)\n",
    "mist64 = temp_i.get_data()\n",
    "# Get the parcel info\n",
    "label = pd.read_csv(labels_p, delimiter=';')\n",
    "hier = pd.read_csv(hier_p)"
   ]
  },
  {
   "cell_type": "code",
   "execution_count": 7,
   "metadata": {},
   "outputs": [],
   "source": [
    "# Get all the patterns and pd\n",
    "dc22_pattern = np.array(sio.loadmat(dc22_p)['eff']).squeeze()\n",
    "dp22_pattern = np.array(sio.loadmat(dp22_p)['eff']).squeeze()\n",
    "dc22_pd = np.array(sio.loadmat(dc22_p)['perc_discovery']).squeeze()\n",
    "dp22_pd = np.array(sio.loadmat(dp22_p)['perc_discovery']).squeeze()"
   ]
  },
  {
   "cell_type": "code",
   "execution_count": 18,
   "metadata": {},
   "outputs": [],
   "source": [
    "def set_size(w,h, ax=None):\n",
    "    \"\"\" w, h: width, height in inches \"\"\"\n",
    "    if not ax: ax=plt.gca()\n",
    "    l = ax.figure.subplotpars.left\n",
    "    r = ax.figure.subplotpars.right\n",
    "    t = ax.figure.subplotpars.top\n",
    "    b = ax.figure.subplotpars.bottom\n",
    "    figw = float(w)/(r-l)\n",
    "    figh = float(h)/(t-b)\n",
    "    ax.figure.set_size_inches(figw, figh)"
   ]
  },
  {
   "cell_type": "code",
   "execution_count": 22,
   "metadata": {},
   "outputs": [
    {
     "name": "stderr",
     "output_type": "stream",
     "text": [
      "/home/surchs/conda/envs/16p/lib/python3.6/site-packages/matplotlib/axes/_axes.py:6462: UserWarning: The 'normed' kwarg is deprecated, and has been replaced by the 'density' kwarg.\n",
      "  warnings.warn(\"The 'normed' kwarg is deprecated, and has been \"\n"
     ]
    },
    {
     "data": {
      "image/png": "[encoded data removed]",
      "text/plain": [
       "<Figure size 170.079x170.079 with 3 Axes>"
      ]
     },
     "metadata": {},
     "output_type": "display_data"
    }
   ],
   "source": [
    "# Plot the heatmap for 22q\n",
    "f_width = 60/25.4\n",
    "g = sbn.jointplot(x=dp22_pattern, y=dc22_pattern, kind='hex', ylim=(-0.3, 0.3), xlim=(-0.3, 0.3), joint_kws={\"extent\": (-0.3, 0.3, -0.3, 0.3)},\n",
    "                 stat_func=None, size=f_width)\n",
    "#tmp = g.ax_joint.set(xlabel='$\\Delta$ FC in 22q DUP', ylabel='$\\Delta$ FC in 22p DEL')\n",
    "tmp = g.ax_joint.set_xticklabels(g.ax_joint.get_xticklabels(), fontsize=8)\n",
    "tmp = g.ax_joint.set_yticklabels(g.ax_joint.get_yticklabels(), fontsize=8)\n",
    "tmp = g.ax_joint.set_xlabel('DUP', fontsize=12)\n",
    "tmp = g.ax_joint.set_ylabel('DEL', fontsize=12)\n",
    "g.ax_joint.plot([0, 0], [-0.3, 0.3], 'k')\n",
    "g.ax_joint.plot([-0.3, 0.3], [0, 0], 'k')\n",
    "\n",
    "g.savefig(os.path.join(figure_p, 'figure_1_D.pdf'), dpi=300, transparent=True)"
   ]
  },
  {
   "cell_type": "code",
   "execution_count": null,
   "metadata": {},
   "outputs": [],
   "source": []
  }
 ],
 "metadata": {
  "kernelspec": {
   "display_name": "p36 (16p)",
   "language": "python",
   "name": "p16p"
  },
  "language_info": {
   "codemirror_mode": {
    "name": "ipython",
    "version": 3
   },
   "file_extension": ".py",
   "mimetype": "text/x-python",
   "name": "python",
   "nbconvert_exporter": "python",
   "pygments_lexer": "ipython3",
   "version": "3.6.5"
  }
 },
 "nbformat": 4,
 "nbformat_minor": 2
}
