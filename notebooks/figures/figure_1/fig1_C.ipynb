{
 "cells": [
  {
   "cell_type": "code",
   "execution_count": 1,
   "metadata": {},
   "outputs": [],
   "source": [
    "##### 16p chord diagram del vs con 20% thresholded , binary color / July 2018"
   ]
  },
  {
   "cell_type": "code",
   "execution_count": 2,
   "metadata": {},
   "outputs": [],
   "source": [
    "library(\"xlsx\")\n",
    "library(\"circlize\")\n",
    "library('gdata')\n",
    "library('Matrix')\n",
    "library('RColorBrewer')\n",
    "library('viridis')\n",
    "library('R.matlab')"
   ]
  },
  {
   "cell_type": "code",
   "execution_count": 3,
   "metadata": {},
   "outputs": [],
   "source": [
    "setwd(\"/project/6008022/su_cm/paper_16p22q/glm/16p/cambridge64/\")\n",
    "mat_p = 'glm_results.mat' ## to generate before with the matlab script 'Glm_to_CirclePlot.m'\n",
    "label_p = '/project/6008022/su_cm/paper_16p22q/parcellation/summary_label_64.xlsx'\n",
    "threshold = 0.2\n",
    "thr_fdr = TRUE"
   ]
  },
  {
   "cell_type": "code",
   "execution_count": 4,
   "metadata": {},
   "outputs": [],
   "source": [
    "# get data\n",
    "mat <- readMat(mat_p)\n",
    "delcon_eff <- mat$delcon.eff\n",
    "delcon_fdr <- mat$delcon.fdr\n",
    "label <- read.xlsx(label_p, 1, header = T)"
   ]
  },
  {
   "cell_type": "code",
   "execution_count": 5,
   "metadata": {},
   "outputs": [],
   "source": [
    "# Relabel some networks\n",
    "label$good_networks <- NA\n",
    "label$good_networks[label$s12_label=='BG_THAL'] <- 'Basal Ganglia'\n",
    "label$good_networks[label$s12_label=='AUDnet_PINS'] <- 'Auditory'\n",
    "label$good_networks[label$s12_label=='LIMnet'] <- 'Limbic'\n",
    "label$good_networks[label$s12_label=='CER'] <- 'Cerebellum'\n",
    "label$good_networks[label$s12_label=='VATTnet_SALnet'] <- 'Ventral Attention'\n",
    "label$good_networks[label$s12_label=='FPnet'] <- 'Fronto Parietal'\n",
    "label$good_networks[label$s12_label=='MOTnet'] <- 'Motor'\n",
    "label$good_networks[label$s12_label=='VVIS_DVIS'] <- 'Downstream Visual'\n",
    "label$good_networks[label$s12_label=='DMnet_pm'] <- 'p. DMN'\n",
    "label$good_networks[label$s12_label=='DMnet_am_lhAG'] <- 'medial DMN'\n",
    "label$good_networks[label$s12_label=='DMnet_l'] <- 'lateral DMN'\n",
    "label$good_networks[label$s12_label=='VISnet'] <- 'Visual'\n",
    "\n",
    "ordered <- c('Auditory', 'Basal Ganglia', 'Cerebellum', 'medial DMN', 'lateral DMN',\n",
    "             'p. DMN', 'Fronto Parietal', 'Limbic', 'Motor', 'Ventral Attention', \n",
    "             'Visual', 'Downstream Visual')\n",
    "\n",
    "label$good_networks <- factor(label$good_networks, levels=ordered)"
   ]
  },
  {
   "cell_type": "code",
   "execution_count": 6,
   "metadata": {},
   "outputs": [],
   "source": [
    "#make dataframe\n",
    "dc_e <- as.matrix(delcon_eff)\n",
    "rownames(dc_e) <- label$roi_label\n",
    "colnames(dc_e) <- label$roi_label\n",
    "\n",
    "dc_f <- as.matrix(delcon_fdr)\n",
    "rownames(dc_f) <- label$roi_label\n",
    "colnames(dc_f) <- label$roi_label\n",
    "\n",
    "# Make simple ord_names\n",
    "ord_names <- label[label$s12_ID==1,]$roi_label\n",
    "for (i in 2:12) {\n",
    "  ord_names <- append(as.character(ord_names), as.character(label[label$s12_ID==i,]$roi_label))\n",
    "}\n",
    "\n",
    "# Mask the matrix\n",
    "if (thr_fdr) {\n",
    "  dc_e[dc_f>0.05] <- 0\n",
    "}\n",
    "\n",
    "dc_conn = upperTriangle(dc_e, diag=FALSE)\n",
    "dc_nz = abs(dc_conn[dc_conn!=0])\n",
    "dc_ind = sort(dc_nz, index.return=TRUE, decreasing = TRUE)\n",
    "dc_slice = floor(length(dc_ind$ix)*threshold)\n",
    "dc_thr = min(dc_nz[dc_ind$ix[1:dc_slice]])\n",
    "\n",
    "# Threshold the connections\n",
    "dc_e[abs(dc_e)<dc_thr] <- 0\n",
    "\n",
    "# Find regions with no above threshold connections\n",
    "dc_i <- which(rowSums(dc_e)==0)\n",
    "\n",
    "# Give them some magic by finding the smallest connection sum and divide by the number of connections\n",
    "dc_m <-min(rowSums(dc_e)[rowSums(dc_e)>0])/64\n",
    "\n",
    "# Now give this magic to the nodes without above threshold connections\n",
    "dc_e[dc_i,] <- dc_m\n",
    "dc_e[, dc_i] <- dc_m\n",
    "\n",
    "tn <- colnames(dc_e)\n",
    "col_neg <- \"#5e96d1aa\"\n",
    "col_pos <- \"#c64970aa\""
   ]
  },
  {
   "cell_type": "code",
   "execution_count": 7,
   "metadata": {},
   "outputs": [],
   "source": [
    "col_map = function(x) ifelse(x < 0, col_neg, ifelse(x==dc_m, \"#00000000\", ifelse(x==0,\"00000000\", col_pos))) "
   ]
  },
  {
   "cell_type": "code",
   "execution_count": 8,
   "metadata": {},
   "outputs": [],
   "source": [
    "colors <- c('#ffffb3','#8dd3c7','#ffed6f','#fccde5','#fb8072','#fdb462','#bc80bd','#bebada','#b3de69','#ccebc5','#80b1d3','#d9d9d9')"
   ]
  },
  {
   "cell_type": "code",
   "execution_count": 9,
   "metadata": {},
   "outputs": [
    {
     "data": {
      "text/html": [
       "<strong>png:</strong> 2"
      ],
      "text/latex": [
       "\\textbf{png:} 2"
      ],
      "text/markdown": [
       "**png:** 2"
      ],
      "text/plain": [
       "png \n",
       "  2 "
      ]
     },
     "metadata": {},
     "output_type": "display_data"
    }
   ],
   "source": [
    "setwd(\"/project/6008022/su_cm/paper_16p22q/figures/fig1/\")\n",
    "\n",
    "pdf(\"circleplot_16pDEL_.pdf\",width=16,height=16, bg=\"white\") \n",
    "\n",
    "mar.default <- c(5,5,5,5) + 0.1\n",
    "#par(mar = mar.default + c(0, 4, 0, 0)) \n",
    "par(mar = mar.default)\n",
    "\n",
    "chordDiagram(dc_e, col=col_map, grid.col = \"grey25\", order = ord_names, keep.diagonal = FALSE, symmetric=TRUE, preAllocateTracks = list(track.height = 0.05), annotationTrack = \"grid\",transparency = 0.5 )\n",
    "net_names <- levels(label$good_networks)\n",
    "for (i in seq_along(net_names)) {\n",
    "  name <- net_names[i]\n",
    "  rois <- label[label$good_networks==name,]$ROI\n",
    "  highlight.sector(tn[rois], track.index = 1, col = colors[i], cex = 0.9, niceFacing = TRUE)\n",
    "  #highlight.sector(tn[rois], track.index = 1, col = colors[i],\n",
    "  #                 text = name, cex = 0.9, text.col = \"black\", niceFacing = TRUE)\n",
    "}\n",
    "circos.track(track.index = 1, panel.fun = function(x, y) {\n",
    "  xlim = get.cell.meta.data(\"xlim\")\n",
    "  xplot = get.cell.meta.data(\"xplot\")\n",
    "  ylim = get.cell.meta.data(\"ylim\")\n",
    "  sector.name = get.cell.meta.data(\"sector.index\")\n",
    "  #circos.text(mean(xlim), ylim[2]+1, sector.name, facing = \"clockwise\",\n",
    "  #            niceFacing = TRUE, cex = 0.85, adj = c(0.1, 0.5), col = \"black\") \n",
    "  #niceFacing = TRUE, cex = 0.7, adj = c(0, 0.5), col = \"black\") \n",
    "  \n",
    "}, bg.border = NA)\n",
    "dev.off()"
   ]
  },
  {
   "cell_type": "code",
   "execution_count": null,
   "metadata": {},
   "outputs": [],
   "source": []
  }
 ],
 "metadata": {
  "kernelspec": {
   "display_name": "Python 3",
   "language": "python",
   "name": "python3"
  },
  "language_info": {
   "codemirror_mode": {
    "name": "ipython",
    "version": 3
   },
   "file_extension": ".py",
   "mimetype": "text/x-python",
   "name": "python",
   "nbconvert_exporter": "python",
   "pygments_lexer": "ipython3",
   "version": "3.6.6"
  }
 },
 "nbformat": 4,
 "nbformat_minor": 2
}
