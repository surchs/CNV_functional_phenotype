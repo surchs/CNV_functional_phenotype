{
 "cells": [
  {
   "cell_type": "code",
   "execution_count": 1,
   "metadata": {},
   "outputs": [],
   "source": [
    "##### 22q chord diagram del vs con thr 50% / July 2018"
   ]
  },
  {
   "cell_type": "code",
   "execution_count": 14,
   "metadata": {},
   "outputs": [],
   "source": [
    "library(\"xlsx\")\n",
    "library(\"circlize\")\n",
    "library('gdata')\n",
    "library('Matrix')\n",
    "library('RColorBrewer')\n",
    "library('viridis')\n",
    "library('R.matlab')\n",
    "#library('tidyverse')"
   ]
  },
  {
   "cell_type": "code",
   "execution_count": 15,
   "metadata": {},
   "outputs": [],
   "source": [
    "setwd(\"/project/6008022/su_cm/paper_16p22q/glm/22q/cambridge64/\")\n",
    "mat_p = 'glm_results.mat' ## to generate before with the matlab script 'Glm_to_CirclePlot.m'\n",
    "label_p = '/project/6008022/su_cm/paper_16p22q/parcellation/summary_label_64.xlsx'\n",
    "threshold = 0.5\n",
    "\n",
    "thr_fdr = T"
   ]
  },
  {
   "cell_type": "code",
   "execution_count": 16,
   "metadata": {},
   "outputs": [],
   "source": [
    "# get data\n",
    "mat <- readMat(mat_p)\n",
    "delcon_eff <- mat$delcon.eff\n",
    "delcon_fdr <- mat$delcon.fdr\n",
    "label <- read.xlsx(label_p, 1, header = T)"
   ]
  },
  {
   "cell_type": "code",
   "execution_count": 17,
   "metadata": {},
   "outputs": [],
   "source": [
    "# Relabel some networks\n",
    "label$good_networks <- NA\n",
    "label$good_networks[label$s12_label=='BG_THAL'] <- 'Basal Ganglia'\n",
    "label$good_networks[label$s12_label=='AUDnet_PINS'] <- 'Auditory'\n",
    "label$good_networks[label$s12_label=='LIMnet'] <- 'Limbic'\n",
    "label$good_networks[label$s12_label=='CER'] <- 'Cerebellum'\n",
    "label$good_networks[label$s12_label=='VATTnet_SALnet'] <- 'Ventral Attention'\n",
    "label$good_networks[label$s12_label=='FPnet'] <- 'Fronto Parietal'\n",
    "label$good_networks[label$s12_label=='MOTnet'] <- 'Motor'\n",
    "label$good_networks[label$s12_label=='VVIS_DVIS'] <- 'Downstream Visual'\n",
    "label$good_networks[label$s12_label=='DMnet_pm'] <- 'p. DMN'\n",
    "label$good_networks[label$s12_label=='DMnet_am_lhAG'] <- 'medial DMN'\n",
    "label$good_networks[label$s12_label=='DMnet_l'] <- 'lateral DMN'\n",
    "label$good_networks[label$s12_label=='VISnet'] <- 'Visual'\n",
    "\n",
    "ordered <- c('Auditory', 'Basal Ganglia', 'Cerebellum', 'medial DMN', 'lateral DMN',\n",
    "             'p. DMN', 'Fronto Parietal', 'Limbic', 'Motor', 'Ventral Attention', \n",
    "             'Visual', 'Downstream Visual')\n",
    "\n",
    "label$good_networks <- factor(label$good_networks, levels=ordered)"
   ]
  },
  {
   "cell_type": "code",
   "execution_count": 18,
   "metadata": {},
   "outputs": [],
   "source": [
    "#make dataframe\n",
    "dc_e <- as.matrix(delcon_eff)\n",
    "rownames(dc_e) <- label$roi_label\n",
    "colnames(dc_e) <- label$roi_label\n",
    "\n",
    "dc_f <- as.matrix(delcon_fdr)\n",
    "rownames(dc_f) <- label$roi_label\n",
    "colnames(dc_f) <- label$roi_label\n",
    "\n",
    "\n",
    "# Make simple ord_names\n",
    "ord_names <- label[label$s12_ID==1,]$roi_label\n",
    "for (i in 2:12) {\n",
    "  ord_names <- append(as.character(ord_names), as.character(label[label$s12_ID==i,]$roi_label))\n",
    "}\n",
    "\n",
    "# Mask the matrix\n",
    "if (thr_fdr) {\n",
    "  dc_e[dc_f>0.05] <- 0\n",
    "}\n",
    "\n",
    "dc_conn = upperTriangle(dc_e, diag=FALSE)\n",
    "dc_nz = abs(dc_conn[dc_conn!=0])\n",
    "dc_ind = sort(dc_nz, index.return=TRUE, decreasing = TRUE)\n",
    "dc_slice = floor(length(dc_ind$ix)*threshold)\n",
    "dc_thr = min(dc_nz[dc_ind$ix[1:dc_slice]])\n",
    "\n",
    "# Threshold the connections\n",
    "dc_e[abs(dc_e)<dc_thr] <- 0\n",
    "\n",
    "# Find regions with no above threshold connections\n",
    "dc_i <- which(rowSums(dc_e)==0)\n",
    "\n",
    "# Turn negative values to positive but give all connections the same value\n",
    "dc_e[dc_e>0] <- 2.1\n",
    "dc_e[dc_e<0] <- 2\n",
    "\n",
    "# Give them some magic by finding the smallest connection sum and divide by the number of connections\n",
    "dc_m <- min(rowSums(dc_e)[rowSums(dc_e)>0])/64\n",
    "\n",
    "# Now give this magic to the nodes without above threshold connections\n",
    "dc_e[dc_i,] <- dc_m\n",
    "dc_e[, dc_i] <- dc_m\n",
    "\n",
    "tn <- colnames(dc_e)"
   ]
  },
  {
   "cell_type": "code",
   "execution_count": 19,
   "metadata": {},
   "outputs": [],
   "source": [
    "col_neg <- \"#5e96d1aa\"\n",
    "col_pos <- \"#c64970aa\"\n",
    "\n",
    "#col_map = function(x) ifelse(x == 2.1, col_pos, ifelse(x==dc_m, \"#00000000\", ifelse(x==2,col_neg,\"#00000000\"))) #black background\n"
   ]
  },
  {
   "cell_type": "code",
   "execution_count": 20,
   "metadata": {},
   "outputs": [],
   "source": [
    "colors <- c('#ffffb3','#8dd3c7','#ffed6f','#fccde5','#fb8072','#fdb462','#bc80bd','#bebada','#b3de69','#ccebc5','#80b1d3','#d9d9d9')"
   ]
  },
  {
   "cell_type": "code",
   "execution_count": 21,
   "metadata": {},
   "outputs": [],
   "source": [
    "# Find regions connected to target\n",
    "target <- 'TP'\n",
    "# Get the column index of the target\n",
    "target_ind <- match(target, colnames(dc_e))\n",
    "conn <- colnames(dc_e)[(as.vector(dc_e[colnames(dc_e)==target,]))>dc_m]\n",
    "# Get the number of connections\n",
    "n_conn <- length(conn)\n",
    "# Get their index\n",
    "conn_ind <- match(conn, colnames(dc_e))\n",
    "\n",
    "# Preallocate connection vectors\n",
    "to <- c(rep(NA, n_conn))\n",
    "from <- c(rep(NA, n_conn))\n",
    "\n",
    "to_tmp <- colnames(dc_e)[(as.vector(dc_e[colnames(dc_e)=='TP',]))>dc_m]\n",
    "from <- c(rep('TP', length(to)))"
   ]
  },
  {
   "cell_type": "code",
   "execution_count": 22,
   "metadata": {},
   "outputs": [
    {
     "data": {
      "text/html": [
       "7"
      ],
      "text/latex": [
       "7"
      ],
      "text/markdown": [
       "7"
      ],
      "text/plain": [
       "[1] 7"
      ]
     },
     "metadata": {},
     "output_type": "display_data"
    }
   ],
   "source": [
    "n_conn\n",
    "for (i in 1:n_conn) {\n",
    "    # See if the connection is row or column\n",
    "    if (conn_ind[i] > target_ind) {\n",
    "        to[i] <- target\n",
    "        from[i] <- conn[i]\n",
    "    }\n",
    "    else {\n",
    "        to[i] <- conn[i]\n",
    "        from[i] <- target\n",
    "    }\n",
    "}"
   ]
  },
  {
   "cell_type": "code",
   "execution_count": 23,
   "metadata": {},
   "outputs": [],
   "source": [
    "dc_e_t <- dc_e\n",
    "dc_e_t[dc_e_t <= dc_m] <- 0\n",
    "matrix<- dc_e_t[order(dc_e_t[,\"TP\"]),]\n",
    "#matrix[,4]"
   ]
  },
  {
   "cell_type": "code",
   "execution_count": 24,
   "metadata": {},
   "outputs": [
    {
     "data": {
      "text/html": [
       "7"
      ],
      "text/latex": [
       "7"
      ],
      "text/markdown": [
       "7"
      ],
      "text/plain": [
       "[1] 7"
      ]
     },
     "metadata": {},
     "output_type": "display_data"
    },
    {
     "data": {
      "text/html": [
       "<table>\n",
       "<thead><tr><th scope=col>from</th><th scope=col>to</th><th scope=col>col_neg</th></tr></thead>\n",
       "<tbody>\n",
       "\t<tr><td>R_CERCR2 </td><td>TP       </td><td>#5e96d1aa</td></tr>\n",
       "\t<tr><td>ORBcor   </td><td>TP       </td><td>#5e96d1aa</td></tr>\n",
       "\t<tr><td>PVISnet_l</td><td>TP       </td><td>#5e96d1aa</td></tr>\n",
       "\t<tr><td>VLPFcor  </td><td>TP       </td><td>#5e96d1aa</td></tr>\n",
       "\t<tr><td>DMPFcor_a</td><td>TP       </td><td>#5e96d1aa</td></tr>\n",
       "\t<tr><td>FP_l     </td><td>TP       </td><td>#5e96d1aa</td></tr>\n",
       "\t<tr><td>MTgyr_p  </td><td>TP       </td><td>#5e96d1aa</td></tr>\n",
       "</tbody>\n",
       "</table>\n"
      ],
      "text/latex": [
       "\\begin{tabular}{r|lll}\n",
       " from & to & col\\_neg\\\\\n",
       "\\hline\n",
       "\t R\\_CERCR2  & TP          & \\#5e96d1aa\\\\\n",
       "\t ORBcor      & TP          & \\#5e96d1aa\\\\\n",
       "\t PVISnet\\_l & TP          & \\#5e96d1aa\\\\\n",
       "\t VLPFcor     & TP          & \\#5e96d1aa\\\\\n",
       "\t DMPFcor\\_a & TP          & \\#5e96d1aa\\\\\n",
       "\t FP\\_l      & TP          & \\#5e96d1aa\\\\\n",
       "\t MTgyr\\_p   & TP          & \\#5e96d1aa\\\\\n",
       "\\end{tabular}\n"
      ],
      "text/markdown": [
       "\n",
       "from | to | col_neg | \n",
       "|---|---|---|---|---|---|---|\n",
       "| R_CERCR2  | TP        | #5e96d1aa | \n",
       "| ORBcor    | TP        | #5e96d1aa | \n",
       "| PVISnet_l | TP        | #5e96d1aa | \n",
       "| VLPFcor   | TP        | #5e96d1aa | \n",
       "| DMPFcor_a | TP        | #5e96d1aa | \n",
       "| FP_l      | TP        | #5e96d1aa | \n",
       "| MTgyr_p   | TP        | #5e96d1aa | \n",
       "\n",
       "\n"
      ],
      "text/plain": [
       "  from      to col_neg  \n",
       "1 R_CERCR2  TP #5e96d1aa\n",
       "2 ORBcor    TP #5e96d1aa\n",
       "3 PVISnet_l TP #5e96d1aa\n",
       "4 VLPFcor   TP #5e96d1aa\n",
       "5 DMPFcor_a TP #5e96d1aa\n",
       "6 FP_l      TP #5e96d1aa\n",
       "7 MTgyr_p   TP #5e96d1aa"
      ]
     },
     "metadata": {},
     "output_type": "display_data"
    }
   ],
   "source": [
    "#matrix\n",
    "n_conn\n",
    "col_df = data.frame(from, to, col_neg)\n",
    "col_df"
   ]
  },
  {
   "cell_type": "code",
   "execution_count": 25,
   "metadata": {},
   "outputs": [
    {
     "data": {
      "text/html": [
       "<strong>png:</strong> 2"
      ],
      "text/latex": [
       "\\textbf{png:} 2"
      ],
      "text/markdown": [
       "**png:** 2"
      ],
      "text/plain": [
       "png \n",
       "  2 "
      ]
     },
     "metadata": {},
     "output_type": "display_data"
    }
   ],
   "source": [
    "setwd(\"/project/6008022/su_cm/paper_16p22q/figures/fig2/\")\n",
    "pdf(\"circleplot_22qDEL_TP.pdf\",width=16,height=16, bg=\"white\") \n",
    "\n",
    "mar.default <- c(5,5,5,5) + 0.1\n",
    "#par(mar = mar.default + c(0, 4, 0, 0)) \n",
    "par(mar = mar.default)\n",
    "\n",
    "chordDiagram(dc_e, col=col_df, grid.col = \"grey25\", order = ord_names, keep.diagonal = FALSE, symmetric=TRUE, preAllocateTracks = list(track.height = 0.05), annotationTrack = \"grid\",transparency = 0.5 )\n",
    "net_names <- levels(label$good_networks)\n",
    "for (i in seq_along(net_names)) {\n",
    "  name <- net_names[i]\n",
    "  rois <- label[label$good_networks==name,]$ROI\n",
    "  highlight.sector(tn[rois], track.index = 1, col = colors[i], cex = 0.9, niceFacing = TRUE)\n",
    "  #highlight.sector(tn[rois], track.index = 1, col = colors[i],\n",
    "  #                 text = name, cex = 0.9, text.col = \"black\", niceFacing = TRUE)\n",
    "}\n",
    "circos.track(track.index = 1, panel.fun = function(x, y) {\n",
    "  xlim = get.cell.meta.data(\"xlim\")\n",
    "  xplot = get.cell.meta.data(\"xplot\")\n",
    "  ylim = get.cell.meta.data(\"ylim\")\n",
    "  sector.name = get.cell.meta.data(\"sector.index\")\n",
    "  #circos.text(mean(xlim), ylim[2]+1, sector.name, facing = \"clockwise\",\n",
    "  #            niceFacing = TRUE, cex = 0.85, adj = c(0.1, 0.5), col = \"black\") \n",
    "  #niceFacing = TRUE, cex = 0.7, adj = c(0, 0.5), col = \"black\") \n",
    "  \n",
    "}, bg.border = NA)\n",
    "dev.off()"
   ]
  }
 ],
 "metadata": {
  "kernelspec": {
   "display_name": "R",
   "language": "R",
   "name": "ir"
  },
  "language_info": {
   "codemirror_mode": "r",
   "file_extension": ".r",
   "mimetype": "text/x-r-source",
   "name": "R",
   "pygments_lexer": "r",
   "version": "3.4.3"
  }
 },
 "nbformat": 4,
 "nbformat_minor": 2
}
