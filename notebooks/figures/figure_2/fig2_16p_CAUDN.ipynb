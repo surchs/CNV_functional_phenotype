{
 "cells": [
  {
   "cell_type": "code",
   "execution_count": 1,
   "metadata": {},
   "outputs": [],
   "source": [
    "##### 16p chord diagram del vs con 20% thresholded , binary color / July 2018"
   ]
  },
  {
   "cell_type": "code",
   "execution_count": 16,
   "metadata": {},
   "outputs": [],
   "source": [
    "library(\"xlsx\")\n",
    "library(\"circlize\")\n",
    "library('gdata')\n",
    "library('Matrix')\n",
    "library('RColorBrewer')\n",
    "library('viridis')\n",
    "library('R.matlab')"
   ]
  },
  {
   "cell_type": "code",
   "execution_count": 17,
   "metadata": {},
   "outputs": [],
   "source": [
    "setwd(\"/project/6008022/su_cm/paper_16p22q/glm/16p/cambridge64/\")\n",
    "mat_p = 'glm_results.mat' ## to generate before with the matlab script 'Glm_to_CirclePlot.m'\n",
    "label_p = '/project/6008022/su_cm/paper_16p22q/parcellation/summary_label_64.xlsx'\n",
    "threshold = 0.2\n",
    "thr_fdr = TRUE"
   ]
  },
  {
   "cell_type": "code",
   "execution_count": 18,
   "metadata": {},
   "outputs": [],
   "source": [
    "# get data\n",
    "mat <- readMat(mat_p)\n",
    "delcon_eff <- mat$delcon.eff\n",
    "delcon_fdr <- mat$delcon.fdr\n",
    "label <- read.xlsx(label_p, 1, header = T)"
   ]
  },
  {
   "cell_type": "code",
   "execution_count": 19,
   "metadata": {},
   "outputs": [],
   "source": [
    "# Relabel some networks\n",
    "label$good_networks <- NA\n",
    "label$good_networks[label$s12_label=='BG_THAL'] <- 'Basal Ganglia'\n",
    "label$good_networks[label$s12_label=='AUDnet_PINS'] <- 'Auditory'\n",
    "label$good_networks[label$s12_label=='LIMnet'] <- 'Limbic'\n",
    "label$good_networks[label$s12_label=='CER'] <- 'Cerebellum'\n",
    "label$good_networks[label$s12_label=='VATTnet_SALnet'] <- 'Ventral Attention'\n",
    "label$good_networks[label$s12_label=='FPnet'] <- 'Fronto Parietal'\n",
    "label$good_networks[label$s12_label=='MOTnet'] <- 'Motor'\n",
    "label$good_networks[label$s12_label=='VVIS_DVIS'] <- 'Downstream Visual'\n",
    "label$good_networks[label$s12_label=='DMnet_pm'] <- 'p. DMN'\n",
    "label$good_networks[label$s12_label=='DMnet_am_lhAG'] <- 'medial DMN'\n",
    "label$good_networks[label$s12_label=='DMnet_l'] <- 'lateral DMN'\n",
    "label$good_networks[label$s12_label=='VISnet'] <- 'Visual'\n",
    "\n",
    "ordered <- c('Auditory', 'Basal Ganglia', 'Cerebellum', 'medial DMN', 'lateral DMN',\n",
    "             'p. DMN', 'Fronto Parietal', 'Limbic', 'Motor', 'Ventral Attention', \n",
    "             'Visual', 'Downstream Visual')\n",
    "\n",
    "label$good_networks <- factor(label$good_networks, levels=ordered)"
   ]
  },
  {
   "cell_type": "code",
   "execution_count": 20,
   "metadata": {},
   "outputs": [],
   "source": [
    "#make dataframe\n",
    "dc_e <- as.matrix(delcon_eff)\n",
    "rownames(dc_e) <- label$roi_label\n",
    "colnames(dc_e) <- label$roi_label\n",
    "\n",
    "dc_f <- as.matrix(delcon_fdr)\n",
    "rownames(dc_f) <- label$roi_label\n",
    "colnames(dc_f) <- label$roi_label\n",
    "\n",
    "# Make simple ord_names\n",
    "ord_names <- label[label$s12_ID==1,]$roi_label\n",
    "for (i in 2:12) {\n",
    "  ord_names <- append(as.character(ord_names), as.character(label[label$s12_ID==i,]$roi_label))\n",
    "}\n",
    "\n",
    "# Mask the matrix\n",
    "if (thr_fdr) {\n",
    "  dc_e[dc_f>0.05] <- 0\n",
    "}\n",
    "\n",
    "dc_conn = upperTriangle(dc_e, diag=FALSE)\n",
    "dc_nz = abs(dc_conn[dc_conn!=0])\n",
    "dc_ind = sort(dc_nz, index.return=TRUE, decreasing = TRUE)\n",
    "dc_slice = floor(length(dc_ind$ix)*threshold)\n",
    "dc_thr = min(dc_nz[dc_ind$ix[1:dc_slice]])\n",
    "\n",
    "# Threshold the connections\n",
    "dc_e[abs(dc_e)<dc_thr] <- 0\n",
    "\n",
    "# Find regions with no above threshold connections\n",
    "dc_i <- which(rowSums(dc_e)==0)\n",
    "\n",
    "# Give them some magic by finding the smallest connection sum and divide by the number of connections\n",
    "dc_m <-min(rowSums(dc_e)[rowSums(dc_e)>0])/64\n",
    "\n",
    "# Now give this magic to the nodes without above threshold connections\n",
    "dc_e[dc_i,] <- dc_m\n",
    "dc_e[, dc_i] <- dc_m\n",
    "\n",
    "tn <- colnames(dc_e)\n",
    "col_neg <- \"#5e96d1aa\"\n",
    "col_pos <- \"#c64970aa\""
   ]
  },
  {
   "cell_type": "code",
   "execution_count": 21,
   "metadata": {},
   "outputs": [],
   "source": [
    "colors <- c('#ffffb3','#8dd3c7','#ffed6f','#fccde5','#fb8072','#fdb462','#bc80bd','#bebada','#b3de69','#ccebc5','#80b1d3','#d9d9d9')"
   ]
  },
  {
   "cell_type": "code",
   "execution_count": 22,
   "metadata": {},
   "outputs": [],
   "source": [
    "# Find regions connected to target\n",
    "target <- 'CAUDN'\n",
    "# Get the column index of the target\n",
    "target_ind <- match(target, colnames(dc_e))\n",
    "conn <- colnames(dc_e)[(as.vector(dc_e[colnames(dc_e)==target,]))>dc_m]\n",
    "# Get the number of connections\n",
    "n_conn <- length(conn)\n",
    "# Get their index\n",
    "conn_ind <- match(conn, colnames(dc_e))\n",
    "\n",
    "# Preallocate connection vectors\n",
    "to <- c(rep(NA, n_conn))\n",
    "from <- c(rep(NA, n_conn))\n",
    "\n",
    "to_tmp <- colnames(dc_e)[(as.vector(dc_e[colnames(dc_e)=='CAUDN',]))>dc_m]\n",
    "from <- c(rep('CAUDN', length(to)))"
   ]
  },
  {
   "cell_type": "code",
   "execution_count": 23,
   "metadata": {},
   "outputs": [
    {
     "data": {
      "text/html": [
       "14"
      ],
      "text/latex": [
       "14"
      ],
      "text/markdown": [
       "14"
      ],
      "text/plain": [
       "[1] 14"
      ]
     },
     "metadata": {},
     "output_type": "display_data"
    }
   ],
   "source": [
    "n_conn\n",
    "for (i in 1:n_conn) {\n",
    "    # See if the connection is row or column\n",
    "    if (conn_ind[i] > target_ind) {\n",
    "        to[i] <- target\n",
    "        from[i] <- conn[i]\n",
    "    }\n",
    "    else {\n",
    "        to[i] <- conn[i]\n",
    "        from[i] <- target\n",
    "    }\n",
    "}"
   ]
  },
  {
   "cell_type": "code",
   "execution_count": 24,
   "metadata": {},
   "outputs": [
    {
     "data": {
      "text/html": [
       "14"
      ],
      "text/latex": [
       "14"
      ],
      "text/markdown": [
       "14"
      ],
      "text/plain": [
       "[1] 14"
      ]
     },
     "metadata": {},
     "output_type": "display_data"
    },
    {
     "data": {
      "text/html": [
       "<table>\n",
       "<thead><tr><th scope=col>from</th><th scope=col>to</th><th scope=col>col_pos</th></tr></thead>\n",
       "<tbody>\n",
       "\t<tr><td>CAUDN       </td><td>THAL        </td><td>#c64970aa   </td></tr>\n",
       "\t<tr><td>CAUDN       </td><td>MOTnet_vl   </td><td>#c64970aa   </td></tr>\n",
       "\t<tr><td>MTgyr_a     </td><td>CAUDN       </td><td>#c64970aa   </td></tr>\n",
       "\t<tr><td>OCCTgyr_l   </td><td>CAUDN       </td><td>#c64970aa   </td></tr>\n",
       "\t<tr><td>IMsul       </td><td>CAUDN       </td><td>#c64970aa   </td></tr>\n",
       "\t<tr><td>PGACcor     </td><td>CAUDN       </td><td>#c64970aa   </td></tr>\n",
       "\t<tr><td>AINS_v_PIsul</td><td>CAUDN       </td><td>#c64970aa   </td></tr>\n",
       "\t<tr><td>MOTnet_m    </td><td>CAUDN       </td><td>#c64970aa   </td></tr>\n",
       "\t<tr><td>AUDnet      </td><td>CAUDN       </td><td>#c64970aa   </td></tr>\n",
       "\t<tr><td>DMPFcor_a   </td><td>CAUDN       </td><td>#c64970aa   </td></tr>\n",
       "\t<tr><td>MOTnet_dl   </td><td>CAUDN       </td><td>#c64970aa   </td></tr>\n",
       "\t<tr><td>SMOTcor     </td><td>CAUDN       </td><td>#c64970aa   </td></tr>\n",
       "\t<tr><td>L_SFgyr_a   </td><td>CAUDN       </td><td>#c64970aa   </td></tr>\n",
       "\t<tr><td>MTgyr_p     </td><td>CAUDN       </td><td>#c64970aa   </td></tr>\n",
       "</tbody>\n",
       "</table>\n"
      ],
      "text/latex": [
       "\\begin{tabular}{r|lll}\n",
       " from & to & col\\_pos\\\\\n",
       "\\hline\n",
       "\t CAUDN        & THAL         & \\#c64970aa \\\\\n",
       "\t CAUDN        & MOTnet\\_vl  & \\#c64970aa \\\\\n",
       "\t MTgyr\\_a      & CAUDN          & \\#c64970aa   \\\\\n",
       "\t OCCTgyr\\_l    & CAUDN          & \\#c64970aa   \\\\\n",
       "\t IMsul        & CAUDN        & \\#c64970aa \\\\\n",
       "\t PGACcor      & CAUDN        & \\#c64970aa \\\\\n",
       "\t AINS\\_v\\_PIsul & CAUDN            & \\#c64970aa     \\\\\n",
       "\t MOTnet\\_m     & CAUDN          & \\#c64970aa   \\\\\n",
       "\t AUDnet       & CAUDN        & \\#c64970aa \\\\\n",
       "\t DMPFcor\\_a    & CAUDN          & \\#c64970aa   \\\\\n",
       "\t MOTnet\\_dl    & CAUDN          & \\#c64970aa   \\\\\n",
       "\t SMOTcor      & CAUDN        & \\#c64970aa \\\\\n",
       "\t L\\_SFgyr\\_a    & CAUDN            & \\#c64970aa     \\\\\n",
       "\t MTgyr\\_p      & CAUDN          & \\#c64970aa   \\\\\n",
       "\\end{tabular}\n"
      ],
      "text/markdown": [
       "\n",
       "from | to | col_pos | \n",
       "|---|---|---|---|---|---|---|---|---|---|---|---|---|---|\n",
       "| CAUDN        | THAL         | #c64970aa    | \n",
       "| CAUDN        | MOTnet_vl    | #c64970aa    | \n",
       "| MTgyr_a      | CAUDN        | #c64970aa    | \n",
       "| OCCTgyr_l    | CAUDN        | #c64970aa    | \n",
       "| IMsul        | CAUDN        | #c64970aa    | \n",
       "| PGACcor      | CAUDN        | #c64970aa    | \n",
       "| AINS_v_PIsul | CAUDN        | #c64970aa    | \n",
       "| MOTnet_m     | CAUDN        | #c64970aa    | \n",
       "| AUDnet       | CAUDN        | #c64970aa    | \n",
       "| DMPFcor_a    | CAUDN        | #c64970aa    | \n",
       "| MOTnet_dl    | CAUDN        | #c64970aa    | \n",
       "| SMOTcor      | CAUDN        | #c64970aa    | \n",
       "| L_SFgyr_a    | CAUDN        | #c64970aa    | \n",
       "| MTgyr_p      | CAUDN        | #c64970aa    | \n",
       "\n",
       "\n"
      ],
      "text/plain": [
       "   from         to        col_pos  \n",
       "1  CAUDN        THAL      #c64970aa\n",
       "2  CAUDN        MOTnet_vl #c64970aa\n",
       "3  MTgyr_a      CAUDN     #c64970aa\n",
       "4  OCCTgyr_l    CAUDN     #c64970aa\n",
       "5  IMsul        CAUDN     #c64970aa\n",
       "6  PGACcor      CAUDN     #c64970aa\n",
       "7  AINS_v_PIsul CAUDN     #c64970aa\n",
       "8  MOTnet_m     CAUDN     #c64970aa\n",
       "9  AUDnet       CAUDN     #c64970aa\n",
       "10 DMPFcor_a    CAUDN     #c64970aa\n",
       "11 MOTnet_dl    CAUDN     #c64970aa\n",
       "12 SMOTcor      CAUDN     #c64970aa\n",
       "13 L_SFgyr_a    CAUDN     #c64970aa\n",
       "14 MTgyr_p      CAUDN     #c64970aa"
      ]
     },
     "metadata": {},
     "output_type": "display_data"
    }
   ],
   "source": [
    "dc_e_t <- dc_e\n",
    "dc_e_t[dc_e_t <= dc_m] <- 0\n",
    "matrix<- dc_e_t[order(dc_e_t[,\"CAUDN\"]),]\n",
    "#matrix[,4]\n",
    "n_conn\n",
    "col_df = data.frame(from, to, col_pos)\n",
    "col_df"
   ]
  },
  {
   "cell_type": "code",
   "execution_count": 25,
   "metadata": {},
   "outputs": [
    {
     "data": {
      "text/html": [
       "<strong>png:</strong> 2"
      ],
      "text/latex": [
       "\\textbf{png:} 2"
      ],
      "text/markdown": [
       "**png:** 2"
      ],
      "text/plain": [
       "png \n",
       "  2 "
      ]
     },
     "metadata": {},
     "output_type": "display_data"
    }
   ],
   "source": [
    "setwd(\"/project/6008022/su_cm/paper_16p22q/figures/fig2/\")\n",
    "\n",
    "pdf(\"circleplot_16pDEL_CAUDN.pdf\",width=16,height=16, bg=\"white\") \n",
    "\n",
    "mar.default <- c(5,5,5,5) + 0.1\n",
    "#par(mar = mar.default + c(0, 4, 0, 0)) \n",
    "par(mar = mar.default)\n",
    "\n",
    "chordDiagram(dc_e, col=col_df, grid.col = \"grey25\", order = ord_names, keep.diagonal = FALSE, symmetric=TRUE, preAllocateTracks = list(track.height = 0.05), annotationTrack = \"grid\",transparency = 0.5 )\n",
    "net_names <- levels(label$good_networks)\n",
    "for (i in seq_along(net_names)) {\n",
    "  name <- net_names[i]\n",
    "  rois <- label[label$good_networks==name,]$ROI\n",
    "  highlight.sector(tn[rois], track.index = 1, col = colors[i], cex = 0.9, niceFacing = TRUE)\n",
    "  #highlight.sector(tn[rois], track.index = 1, col = colors[i],\n",
    "  #                 text = name, cex = 0.9, text.col = \"black\", niceFacing = TRUE)\n",
    "}\n",
    "circos.track(track.index = 1, panel.fun = function(x, y) {\n",
    "  xlim = get.cell.meta.data(\"xlim\")\n",
    "  xplot = get.cell.meta.data(\"xplot\")\n",
    "  ylim = get.cell.meta.data(\"ylim\")\n",
    "  sector.name = get.cell.meta.data(\"sector.index\")\n",
    "  #circos.text(mean(xlim), ylim[2]+1, sector.name, facing = \"clockwise\",\n",
    "  #            niceFacing = TRUE, cex = 0.85, adj = c(0.1, 0.5), col = \"black\") \n",
    "  #niceFacing = TRUE, cex = 0.7, adj = c(0, 0.5), col = \"black\") \n",
    "  \n",
    "}, bg.border = NA)\n",
    "dev.off()"
   ]
  },
  {
   "cell_type": "code",
   "execution_count": null,
   "metadata": {},
   "outputs": [],
   "source": []
  }
 ],
 "metadata": {
  "kernelspec": {
   "display_name": "R",
   "language": "R",
   "name": "ir"
  },
  "language_info": {
   "codemirror_mode": "r",
   "file_extension": ".r",
   "mimetype": "text/x-r-source",
   "name": "R",
   "pygments_lexer": "r",
   "version": "3.4.3"
  }
 },
 "nbformat": 4,
 "nbformat_minor": 2
}
