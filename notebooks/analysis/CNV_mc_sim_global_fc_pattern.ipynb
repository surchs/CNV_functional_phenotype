{
 "cells": [
  {
   "cell_type": "markdown",
   "metadata": {},
   "source": [
    "# Null model of GLM\n",
    "Essentially what we are doing here is to re-create everything after the individual connectome step and running it a couple times. About 1000. \n",
    "\n",
    "1. Find and load the pheno file for the 16p guys\n",
    "2. Load a single individual connectome\n",
    "3. Load all connectomes in the order specified by the pheno file\n",
    "4. Build the GLM and regress the approriate covariates\n",
    "5. Extract the beta for the group contrast\n",
    "6. Keep the average beta of the group contrast and go to the next iteration\n",
    "\n",
    "Sidenotes:\n",
    "- loading of the connectomes can be done only once\n",
    "- the only thing that needs to be scrambled is the genetic status information in the pheno file\n",
    "- therefore the entire GLM process could be relatively quick\n",
    "- the way the contrasts are set up (only the two groups are considered) means that we need to remove individuals for each run"
   ]
  },
  {
   "cell_type": "code",
   "execution_count": 1,
   "metadata": {},
   "outputs": [],
   "source": [
    "%matplotlib inline"
   ]
  },
  {
   "cell_type": "code",
   "execution_count": 2,
   "metadata": {},
   "outputs": [],
   "source": [
    "import os\n",
    "import sys\n",
    "import time\n",
    "import patsy\n",
    "import numpy as np\n",
    "import pandas as pd\n",
    "import seaborn as sbn\n",
    "from scipy import stats\n",
    "from scipy import io as sio\n",
    "import pathlib as pal\n",
    "import sklearn.linear_model as sln\n",
    "from matplotlib import pyplot as plt"
   ]
  },
  {
   "cell_type": "code",
   "execution_count": 3,
   "metadata": {},
   "outputs": [],
   "source": [
    "# Paths\n",
    "root_p = pal.Path('/home/surchs/data/')\n",
    "pheno16_p = root_p / 'paper_16p22q/pheno/Pheno_16p.csv'\n",
    "data16_p = root_p / 'paper_16p22q/glm/16p_age/cambridge64/individual/'\n",
    "pheno22_p = root_p / 'paper_16p22q/pheno/Pheno_22q.csv'\n",
    "data22_p = root_p / 'paper_16p22q/glm/22q/cambridge64/individual/'\n",
    "temp = 'connectome_{}_cambridge64.mat'\n",
    "figure_p = root_p / 'paper_16p22q/figures/unclear/'\n",
    "\n",
    "niak16_delcon_p = root_p / 'paper_16p22q/glm/16p_age/cambridge64/del_minus_con/glm_del_minus_con_cambridge64.mat'\n",
    "niak16_dupcon_p = root_p / 'paper_16p22q/glm/16p_age/cambridge64/dup_minus_con/glm_dup_minus_con_cambridge64.mat'\n",
    "niak22_delcon_p = root_p / 'paper_16p22q/glm/22q/cambridge64/del_minus_con/glm_del_minus_con_cambridge64.mat'\n",
    "niak22_dupcon_p = root_p / 'paper_16p22q/glm/22q/cambridge64/dup_minus_con/glm_dup_minus_con_cambridge64.mat'\n",
    "\n",
    "monte_carlo_16_p = root_p / 'paper_16p22q/glm/16p_age/monte_carlo_16p_global_shift.npy'\n",
    "monte_carlo_22_p = root_p / 'paper_16p22q/glm/22q/monte_carlo_22q_global_shift.npy'"
   ]
  },
  {
   "cell_type": "code",
   "execution_count": 4,
   "metadata": {},
   "outputs": [],
   "source": [
    "pheno16 = pd.read_csv(pheno16_p)\n",
    "pheno22 = pd.read_csv(pheno22_p)\n",
    "# Rename the niak column to fname\n",
    "pheno16.rename(columns={'Unnamed: 0':'fname'}, inplace=True)\n",
    "pheno22.rename(columns={'Unnamed: 0':'fname'}, inplace=True)\n",
    "# Get a genetic status column for the 16p\n",
    "pheno16['genetic_status'] = pheno16.genetic_status_16p.replace({1:'deletion',\n",
    "                                    2:'control',\n",
    "                                    3:'duplication'})\n",
    "# Find the number of subjects\n",
    "n16 = pheno16.shape[0]\n",
    "n22 = pheno22.shape[0]"
   ]
  },
  {
   "cell_type": "code",
   "execution_count": 5,
   "metadata": {},
   "outputs": [],
   "source": [
    "def octvec2mat(vec, mask):\n",
    "    \"\"\"\n",
    "    Takes a vector in Fortran style (Octave/Matlab)\n",
    "    and maps it back into a mask correctly in \n",
    "    python\n",
    "    \"\"\"\n",
    "    vec_mat = mask.flatten(order='F').astype(bool)\n",
    "    tmp = np.zeros_like(vec_mat, dtype=float)\n",
    "    tmp[vec_mat] = vec\n",
    "    vol = np.reshape(tmp, mask.shape, order='F')\n",
    "    return vol"
   ]
  },
  {
   "cell_type": "markdown",
   "metadata": {},
   "source": [
    "## Load the connectomes"
   ]
  },
  {
   "cell_type": "code",
   "execution_count": 6,
   "metadata": {},
   "outputs": [],
   "source": [
    "conn16 = np.zeros((n16, 2080))\n",
    "\n",
    "for rid, row in pheno16.iterrows():\n",
    "    p = os.path.join(data16_p, temp.format(row['fname']))\n",
    "    conn16[rid, :] = sio.loadmat(p)['del_minus_con']['connectome'][0][0].squeeze()"
   ]
  },
  {
   "cell_type": "code",
   "execution_count": 7,
   "metadata": {},
   "outputs": [],
   "source": [
    "conn22 = np.zeros((n22, 2080))\n",
    "\n",
    "for rid, row in pheno22.iterrows():\n",
    "    p = os.path.join(data22_p, temp.format(row['fname']))\n",
    "    conn22[rid, :] = sio.loadmat(p)['del_minus_con']['connectome'][0][0].squeeze()"
   ]
  },
  {
   "cell_type": "code",
   "execution_count": 8,
   "metadata": {},
   "outputs": [],
   "source": [
    "# Get the connectivity of only the controls\n",
    "conn16_control = conn16[pheno16.g2==1, :]\n",
    "conn22_control = conn22[pheno22.g2==1, :]"
   ]
  },
  {
   "cell_type": "markdown",
   "metadata": {},
   "source": [
    "### Prove that we find the same stuff as with niak"
   ]
  },
  {
   "cell_type": "code",
   "execution_count": 9,
   "metadata": {},
   "outputs": [],
   "source": [
    "# Contrast 1: del vs con w/o dup. Find the dup and exclude them\n",
    "dup16_mask = pheno16.genetic_status=='duplication'\n",
    "nondup16_ind = np.argwhere(~dup16_mask).squeeze()\n",
    "\n",
    "# Contrast 2: dup vs con w/o del. Find the del and exclude them\n",
    "del16_mask = pheno16.genetic_status=='deletion'\n",
    "nondel16_ind = np.argwhere(~del16_mask).squeeze()\n",
    "\n",
    "pheno16_delcon = pheno16.loc[nondup16_ind]\n",
    "pheno16_dupcon = pheno16.loc[nondel16_ind]"
   ]
  },
  {
   "cell_type": "code",
   "execution_count": 10,
   "metadata": {},
   "outputs": [],
   "source": [
    "dmat = patsy.dmatrix('g1 + sex_dummy + Site_dummy + FD_scrubbed_both_norm + age_months_norm', data=pheno16_delcon)\n",
    "mod = sln.LinearRegression(fit_intercept=True, normalize=False, n_jobs=-1)\n",
    "res = mod.fit(dmat, conn16[nondup16_ind, :])"
   ]
  },
  {
   "cell_type": "code",
   "execution_count": 11,
   "metadata": {},
   "outputs": [],
   "source": [
    "# Compare to what we have found with niak so far\n",
    "emp16_delcon = sio.loadmat(niak16_delcon_p)['eff'].squeeze()\n",
    "emp16_dupcon = sio.loadmat(niak16_dupcon_p)['eff'].squeeze()\n",
    "emp22_delcon = sio.loadmat(niak22_delcon_p)['eff'].squeeze()\n",
    "emp22_dupcon = sio.loadmat(niak22_dupcon_p)['eff'].squeeze()"
   ]
  },
  {
   "cell_type": "code",
   "execution_count": 12,
   "metadata": {},
   "outputs": [],
   "source": [
    "emp16_delcon_mat = octvec2mat(emp16_delcon, np.tril(np.ones((64,64)).astype(bool)))\n",
    "test = emp16_delcon_mat[np.tril(np.ones((64,64)).astype(bool))]"
   ]
  },
  {
   "cell_type": "code",
   "execution_count": 13,
   "metadata": {},
   "outputs": [
    {
     "data": {
      "text/plain": [
       "-8.881784197001253e-17"
      ]
     },
     "execution_count": 13,
     "metadata": {},
     "output_type": "execute_result"
    }
   ],
   "source": [
    "np.mean(res.coef_[:, 1] - test)"
   ]
  },
  {
   "cell_type": "code",
   "execution_count": 14,
   "metadata": {},
   "outputs": [
    {
     "data": {
      "text/plain": [
       "0.0919231794331197"
      ]
     },
     "execution_count": 14,
     "metadata": {},
     "output_type": "execute_result"
    }
   ],
   "source": [
    "np.std(res.coef_[:, 1] - test)"
   ]
  },
  {
   "cell_type": "markdown",
   "metadata": {},
   "source": [
    "Alright, that's pretty much same. Now we can iterate."
   ]
  },
  {
   "cell_type": "markdown",
   "metadata": {},
   "source": [
    "## Build the null model\n",
    "1. Scramble the group assignment\n",
    "2. Select the new groups\n",
    "3. Exclude the individuals from the group of non-interest\n",
    "4. get the mean of the betas and save it\n",
    "5. Repeat"
   ]
  },
  {
   "cell_type": "code",
   "execution_count": 15,
   "metadata": {},
   "outputs": [],
   "source": [
    "def get_glm_results(dmat, X):\n",
    "    mod = sln.LinearRegression(fit_intercept=True, normalize=False, n_jobs=-1)\n",
    "    res = mod.fit(dmat, X)\n",
    "    betas = res.coef_[:, 1]\n",
    "    mean_beta = np.mean(betas)\n",
    "    return mean_beta"
   ]
  },
  {
   "cell_type": "code",
   "execution_count": 16,
   "metadata": {},
   "outputs": [],
   "source": [
    "n_iter = 5000"
   ]
  },
  {
   "cell_type": "markdown",
   "metadata": {},
   "source": [
    "## 16p random"
   ]
  },
  {
   "cell_type": "code",
   "execution_count": 17,
   "metadata": {},
   "outputs": [
    {
     "name": "stdout",
     "output_type": "stream",
     "text": [
      " 4901/5000, 4.01s to go (4.01E-02s on average)Done. This took 196.4 seconds\n"
     ]
    }
   ],
   "source": [
    "# Copy the pheno out\n",
    "pheno16_delcon = pheno16.loc[pheno16.genetic_status!='duplication'].copy()\n",
    "n16_delcon = pheno16_delcon.shape[0]\n",
    "ind16_delcon = np.argwhere(pheno16.genetic_status!='duplication').squeeze()\n",
    "\n",
    "pheno16_dupcon = pheno16.loc[pheno16.genetic_status!='deletion'].copy()\n",
    "n16_dupcon = pheno16_dupcon.shape[0]\n",
    "ind16_dupcon = np.argwhere(pheno16.genetic_status!='deletion').squeeze()\n",
    "\n",
    "rand16_beta = np.zeros((2,n_iter))\n",
    "\n",
    "X16_delcon = conn16[ind16_delcon, :]\n",
    "X16_dupcon = conn16[ind16_dupcon, :]\n",
    "\n",
    "# Iterate over the 16p guys\n",
    "start = time.time()\n",
    "for i in range(n_iter):\n",
    "    # Randomize the genetic status\n",
    "    rand16_ind_delcon = np.arange(n16_delcon).astype(int)\n",
    "    rand16_ind_dupcon = np.arange(n16_dupcon).astype(int)\n",
    "    np.random.shuffle(rand16_ind_delcon)\n",
    "    np.random.shuffle(rand16_ind_dupcon)\n",
    "    pheno16_delcon[['genetic_status', 'g1', 'g2', 'g3']] = pheno16_delcon[['genetic_status', 'g1', 'g2', 'g3']].iloc[rand16_ind_delcon].values\n",
    "    pheno16_dupcon[['genetic_status', 'g1', 'g2', 'g3']] = pheno16_dupcon[['genetic_status', 'g1', 'g2', 'g3']].iloc[rand16_ind_dupcon].values\n",
    "    \n",
    "    # Build the model matrix\n",
    "    dmat16_delcon = patsy.dmatrix('g1 + sex_dummy + Site_dummy + FD_scrubbed_both_norm + age_months_norm', data=pheno16_delcon)\n",
    "    dmat16_dupcon = patsy.dmatrix('g3 + sex_dummy + Site_dummy + FD_scrubbed_both_norm + age_months_norm', data=pheno16_dupcon)\n",
    "    \n",
    "    # Run the model\n",
    "    rand16_beta[0, i] = get_glm_results(dmat16_delcon, X16_delcon)\n",
    "    rand16_beta[1, i] = get_glm_results(dmat16_dupcon, X16_dupcon)\n",
    "    if i%100==0 and not i==0:\n",
    "        elapsed = time.time() - start\n",
    "        average = elapsed/(i+1)\n",
    "        remaining = (n_iter-i)*average\n",
    "        sys.stdout.write('\\r {}/{}, {:.2f}s to go ({:.2E}s on average)'.format(i+1, n_iter, remaining, average))\n",
    "        sys.stdout.flush()\n",
    "print('\\nDone. This took {:.1f} seconds'.format(elapsed))"
   ]
  },
  {
   "cell_type": "markdown",
   "metadata": {},
   "source": [
    "## 22q random"
   ]
  },
  {
   "cell_type": "code",
   "execution_count": 18,
   "metadata": {},
   "outputs": [
    {
     "name": "stdout",
     "output_type": "stream",
     "text": [
      " 4901/5000, 3.07s to go (3.07E-02)Done. This took 150.5 seconds\n"
     ]
    }
   ],
   "source": [
    "# Copy the pheno out\n",
    "pheno22_delcon = pheno22.loc[pheno22.genetic_status!='duplication'].copy()\n",
    "n22_delcon = pheno22_delcon.shape[0]\n",
    "ind22_delcon = np.argwhere(pheno22.genetic_status!='duplication').squeeze()\n",
    "\n",
    "pheno22_dupcon = pheno22.loc[pheno22.genetic_status!='deletion'].copy()\n",
    "n22_dupcon = pheno22_dupcon.shape[0]\n",
    "ind22_dupcon = np.argwhere(pheno22.genetic_status!='deletion').squeeze()\n",
    "\n",
    "rand22_beta = np.zeros((2,n_iter))\n",
    "\n",
    "X22_delcon = conn22[ind22_delcon, :]\n",
    "X22_dupcon = conn22[ind22_dupcon, :]\n",
    "\n",
    "pheno22_iter = pheno22.copy()\n",
    "rand22_beta = np.zeros((2,n_iter))\n",
    "# Iterate over the 22q guys\n",
    "start = time.time()\n",
    "for i in range(n_iter):\n",
    "    # Randomize the genetic status\n",
    "    rand22_ind_delcon = np.arange(n22_delcon).astype(int)\n",
    "    rand22_ind_dupcon = np.arange(n22_dupcon).astype(int)\n",
    "    np.random.shuffle(rand22_ind_delcon)\n",
    "    np.random.shuffle(rand22_ind_dupcon)\n",
    "    pheno22_delcon[['genetic_status', 'g1', 'g2', 'g3']] = pheno22_delcon[['genetic_status', 'g1', 'g2', 'g3']].iloc[rand22_ind_delcon].values\n",
    "    pheno22_dupcon[['genetic_status', 'g1', 'g2', 'g3']] = pheno22_dupcon[['genetic_status', 'g1', 'g2', 'g3']].iloc[rand22_ind_dupcon].values\n",
    "    \n",
    "    # Build the model matrix\n",
    "    dmat22_delcon = patsy.dmatrix('g1 + sex + FD_scrubbed_norm + age_norm', data=pheno22_delcon)\n",
    "    dmat22_dupcon = patsy.dmatrix('g3 + sex + FD_scrubbed_norm + age_norm', data=pheno22_dupcon)\n",
    "    \n",
    "    # Run the model\n",
    "    rand22_beta[0, i] = get_glm_results(dmat22_delcon, X22_delcon)\n",
    "    rand22_beta[1, i] = get_glm_results(dmat22_dupcon, X22_dupcon)\n",
    "    if i%100==0 and not i==0:\n",
    "        elapsed = time.time() - start\n",
    "        average = elapsed/(i+1)\n",
    "        remaining = (n_iter-i)*average\n",
    "        sys.stdout.write('\\r {}/{}, {:.2f}s to go ({:.2E})'.format(i+1, n_iter, remaining, average))\n",
    "        sys.stdout.flush()\n",
    "print('\\nDone. This took {:.1f} seconds'.format(elapsed))"
   ]
  },
  {
   "cell_type": "code",
   "execution_count": 19,
   "metadata": {},
   "outputs": [],
   "source": [
    "# Store the results, save some time\n",
    "np.save(str(monte_carlo_16_p), rand16_beta)\n",
    "np.save(str(monte_carlo_22_p), rand22_beta)"
   ]
  },
  {
   "cell_type": "markdown",
   "metadata": {},
   "source": [
    "## Test all"
   ]
  },
  {
   "cell_type": "code",
   "execution_count": 20,
   "metadata": {},
   "outputs": [],
   "source": [
    "m16_delcon = np.mean(emp16_delcon)\n",
    "m16_dupcon = np.mean(emp16_dupcon)\n",
    "m22_delcon = np.mean(emp22_delcon)\n",
    "m22_dupcon = np.mean(emp22_dupcon)\n",
    "\n",
    "z16_delcon = m16_delcon / np.std(conn16_control, 0)\n",
    "z16_dupcon = m16_dupcon / np.std(conn16_control, 0)\n",
    "z22_delcon = m22_delcon / np.std(conn22_control, 0)\n",
    "z22_dupcon = m22_dupcon / np.std(conn22_control, 0)"
   ]
  },
  {
   "cell_type": "code",
   "execution_count": 21,
   "metadata": {},
   "outputs": [],
   "source": [
    "p16_delcon = np.sum(m16_delcon < rand16_beta[0,:])/n_iter\n",
    "p16_dupcon = np.sum(m16_dupcon > rand16_beta[1,:])/n_iter\n",
    "p22_delcon = np.sum(m22_delcon > rand22_beta[0,:])/n_iter\n",
    "p22_dupcon = np.sum(m22_dupcon < rand22_beta[1,:])/n_iter"
   ]
  },
  {
   "cell_type": "code",
   "execution_count": 22,
   "metadata": {},
   "outputs": [],
   "source": [
    "d16_delcon = m16_delcon/np.std(rand16_beta[0,:])\n",
    "d16_dupcon = m16_dupcon/np.std(rand16_beta[1,:])\n",
    "d22_delcon = m22_delcon/np.std(rand22_beta[0,:])\n",
    "d22_dupcon = m22_dupcon/np.std(rand22_beta[1,:])"
   ]
  },
  {
   "cell_type": "code",
   "execution_count": 23,
   "metadata": {},
   "outputs": [
    {
     "name": "stdout",
     "output_type": "stream",
     "text": [
      "16p DEL-CON = 0.311 (z) (p=0.011, cohen's d=2.30)\n",
      "16p DUP-CON = -0.247 (z) (p=0.030, cohen's d=-1.84)\n",
      "22q DEL-CON = -0.151 (z) (p=0.118, cohen's d=-1.22)\n",
      "22q DUP-CON = 0.256 (z) (p=0.072, cohen's d=1.49)\n"
     ]
    }
   ],
   "source": [
    "print('16p DEL-CON = {:.3f} (z) (p={:.3f}, cohen\\'s d={:.2f})'.format(np.mean(z16_delcon),\n",
    "                                                             p16_delcon,\n",
    "                                                             d16_delcon))\n",
    "print('16p DUP-CON = {:.3f} (z) (p={:.3f}, cohen\\'s d={:.2f})'.format(np.mean(z16_dupcon),\n",
    "                                                             p16_dupcon,\n",
    "                                                             d16_dupcon))\n",
    "\n",
    "print('22q DEL-CON = {:.3f} (z) (p={:.3f}, cohen\\'s d={:.2f})'.format(np.mean(z22_delcon),\n",
    "                                                             p22_delcon,\n",
    "                                                             d22_delcon))\n",
    "print('22q DUP-CON = {:.3f} (z) (p={:.3f}, cohen\\'s d={:.2f})'.format(np.mean(z22_dupcon),\n",
    "                                                             p22_dupcon,\n",
    "                                                             d22_dupcon))"
   ]
  },
  {
   "cell_type": "code",
   "execution_count": 24,
   "metadata": {},
   "outputs": [
    {
     "name": "stderr",
     "output_type": "stream",
     "text": [
      "/home/surchs/conda/envs/svip/lib/python3.6/site-packages/scipy/stats/stats.py:1713: FutureWarning: Using a non-tuple sequence for multidimensional indexing is deprecated; use `arr[tuple(seq)]` instead of `arr[seq]`. In the future this will be interpreted as an array index, `arr[np.array(seq)]`, which will result either in an error or a different result.\n",
      "  return np.add.reduce(sorted[indexer] * weights, axis=axis) / sumval\n"
     ]
    },
    {
     "data": {
      "image/png": "[encoded data removed]",
      "text/plain": [
       "<Figure size 432x288 with 1 Axes>"
      ]
     },
     "metadata": {
      "needs_background": "light"
     },
     "output_type": "display_data"
    }
   ],
   "source": [
    "f = plt.figure(figsize=(6,4))\n",
    "ax = plt.subplot(111)\n",
    "# Plot the 16pDEL \n",
    "g_delcon = sbn.distplot(rand16_beta[0,:], hist=False, kde=True, ax=ax, label='16pDel_NULL', color='red')\n",
    "g_dupcon = sbn.distplot(rand16_beta[1,:], hist=False, kde=True, ax=ax, label='16pDup_NULL', color='blue')\n",
    "# Now add the area under the curve\n",
    "d_delcon = g_delcon.axes.lines[0].get_data()\n",
    "d_dupcon = g_dupcon.axes.lines[1].get_data()\n",
    "cut_delcon = np.min(np.where(np.mean(emp16_delcon) < d_delcon[0]))\n",
    "cut_dupcon = np.max(np.where(np.mean(emp16_dupcon) > d_dupcon[0]))\n",
    "ax.fill_between(d_delcon[0][cut_delcon:], 0, d_delcon[1][cut_delcon:], color='tomato')\n",
    "ax.fill_between(d_dupcon[0][:cut_dupcon], 0, d_dupcon[1][:cut_dupcon], color='steelblue')\n",
    "ax.vlines(0, ax.get_ylim()[1], 0)\n",
    "ax.set_yticks([])\n",
    "ax.set_yticklabels([])\n",
    "ax.set_xlim([-0.15, 0.15])\n",
    "sbn.despine(ax=ax)\n",
    "f.suptitle('16p $\\Delta$ FC against NULL model', fontsize=18);\n",
    "f.savefig(os.path.join(figure_p, '16p_beta_pvalues.pdf'), dpi=300, transparent=True)"
   ]
  },
  {
   "cell_type": "code",
   "execution_count": 25,
   "metadata": {},
   "outputs": [
    {
     "data": {
      "image/png": "[encoded data removed]",
      "text/plain": [
       "<Figure size 432x288 with 1 Axes>"
      ]
     },
     "metadata": {
      "needs_background": "light"
     },
     "output_type": "display_data"
    }
   ],
   "source": [
    "f = plt.figure(figsize=(6,4))\n",
    "ax = plt.subplot(111)\n",
    "# Plot the 16pDEL \n",
    "g_delcon = sbn.distplot(rand22_beta[0,:], hist=False, kde=True, ax=ax, label='22qDel_NULL', color='red')\n",
    "g_dupcon = sbn.distplot(rand22_beta[1,:], hist=False, kde=True, ax=ax, label='22qDup_NULL', color='blue')\n",
    "# Now add the area under the curve\n",
    "d_delcon = g_delcon.axes.lines[0].get_data()\n",
    "d_dupcon = g_dupcon.axes.lines[1].get_data()\n",
    "cut_delcon = np.min(np.where(np.mean(emp22_delcon) < d_delcon[0]))\n",
    "cut_dupcon = np.max(np.where(np.mean(emp22_dupcon) > d_dupcon[0]))\n",
    "ax.fill_between(d_delcon[0][:cut_delcon], 0, d_delcon[1][:cut_delcon], color='tomato')\n",
    "ax.fill_between(d_dupcon[0][cut_dupcon:], 0, d_dupcon[1][cut_dupcon:], color='steelblue')\n",
    "ax.vlines(0, ax.get_ylim()[1], 0)\n",
    "ax.set_yticks([])\n",
    "ax.set_yticklabels([])\n",
    "ax.set_xlim([-0.15, 0.15])\n",
    "sbn.despine(ax=ax)\n",
    "f.suptitle('22q $\\Delta$ FC against NULL model', fontsize=18);\n",
    "f.savefig(os.path.join(figure_p, '22q_beta_pvalues.pdf'), dpi=300, transparent=True)"
   ]
  }
 ],
 "metadata": {
  "kernelspec": {
   "display_name": "p36 (svip)",
   "language": "python",
   "name": "svip"
  },
  "language_info": {
   "codemirror_mode": {
    "name": "ipython",
    "version": 3
   },
   "file_extension": ".py",
   "mimetype": "text/x-python",
   "name": "python",
   "nbconvert_exporter": "python",
   "pygments_lexer": "ipython3",
   "version": "3.6.6"
  }
 },
 "nbformat": 4,
 "nbformat_minor": 2
}
