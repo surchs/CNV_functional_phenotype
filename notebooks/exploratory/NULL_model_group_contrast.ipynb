{
 "cells": [
  {
   "cell_type": "code",
   "execution_count": 1,
   "metadata": {},
   "outputs": [],
   "source": [
    "%matplotlib inline"
   ]
  },
  {
   "cell_type": "code",
   "execution_count": 2,
   "metadata": {},
   "outputs": [],
   "source": [
    "import os\n",
    "import sys\n",
    "import time\n",
    "import numpy as np\n",
    "import pandas as pd\n",
    "import patsy as pat\n",
    "import nibabel as nib\n",
    "import seaborn as sbn\n",
    "import pathlib as pal\n",
    "from scipy import io as sio\n",
    "from matplotlib import pyplot as plt\n",
    "from sklearn import linear_model as sln\n",
    "from sklearn import model_selection as skm"
   ]
  },
  {
   "cell_type": "code",
   "execution_count": 3,
   "metadata": {},
   "outputs": [],
   "source": [
    "def octvec2mat(vec, mask):\n",
    "    \"\"\"\n",
    "    Takes a vector in Fortran style (Octave/Matlab)\n",
    "    and maps it back into a mask correctly in \n",
    "    python\n",
    "    \"\"\"\n",
    "    vec_mat = mask.flatten(order='F').astype(bool)\n",
    "    tmp = np.zeros_like(vec_mat, dtype=float)\n",
    "    tmp[vec_mat] = vec\n",
    "    vol = np.reshape(tmp, mask.shape, order='F')\n",
    "    return vol"
   ]
  },
  {
   "cell_type": "code",
   "execution_count": 4,
   "metadata": {},
   "outputs": [],
   "source": [
    "def vec2mat(vec, mask):\n",
    "    tmp_mat = octvec2mat(vec, mask)\n",
    "    tmp_mat += tmp_mat.T\n",
    "    tmp_mat[np.eye(mask.shape[0]).astype(bool)] = tmp_mat[np.eye(mask.shape[0]).astype(bool)]/2\n",
    "    return tmp_mat"
   ]
  },
  {
   "cell_type": "code",
   "execution_count": 5,
   "metadata": {},
   "outputs": [],
   "source": [
    "root_p = pal.Path('/home/surchs/data/')\n",
    "data_p = root_p / 'GSP_all/glm/main_effect_BVnoTIV_50_withFD/cambridge64/individual'\n",
    "conn_t = 'connectome_{}_cambridge64.mat'\n",
    "pheno_p = root_p / 'GSP_all/pheno/DataRelease_2014_underscore_FD.csv'\n",
    "\n",
    "labels_p = root_p / 'ATLAS/MIST/Parcel_Information/MIST_64.csv'\n",
    "labels7_p = root_p / 'ATLAS/MIST/Parcel_Information/MIST_64.csv'\n",
    "labels12_p = root_p / 'ATLAS/MIST/Parcel_Information/MIST_64.csv'\n",
    "hier_p = root_p / 'ATLAS/MIST/Hierarchy/MIST_PARCEL_ORDER.csv'\n",
    "temp_p = root_p / 'ATLAS/MIST/Parcellations/MIST_64.nii.gz'\n",
    "\n",
    "fig_p = root_p /  'paper_16p22q/figures/unclear/'"
   ]
  },
  {
   "cell_type": "code",
   "execution_count": 6,
   "metadata": {},
   "outputs": [],
   "source": [
    "pheno = pd.read_csv(pheno_p)\n",
    "pheno.rename(columns={'Unnamed: 0':'niak_id'}, inplace=True)"
   ]
  },
  {
   "cell_type": "code",
   "execution_count": 7,
   "metadata": {},
   "outputs": [],
   "source": [
    "temp_i = nib.load(str(temp_p))\n",
    "temp = temp_i.get_data()"
   ]
  },
  {
   "cell_type": "markdown",
   "metadata": {},
   "source": [
    "## Steps to take:\n",
    "\n",
    "1. Load the connectome of everyone\n",
    "2. k-fold generator. split 2 pairs of groups\n",
    "3. compute group difference across 2080 connections. Raw values, no FDR. Control for nuisance (age, sex, motion)\n",
    "4. Keep the betas for each group contrast\n",
    "5. Correlate the betas between the two contrasts, keep the 64 correlation scores\n",
    "6. Show them"
   ]
  },
  {
   "cell_type": "markdown",
   "metadata": {},
   "source": [
    "## Load connectomes"
   ]
  },
  {
   "cell_type": "code",
   "execution_count": 8,
   "metadata": {},
   "outputs": [],
   "source": [
    "connectome_paths = list()\n",
    "connectome_ids = list()\n",
    "\n",
    "for rid, row in pheno.iterrows():\n",
    "    connectome_p = data_p / conn_t.format(row['niak_id']) \n",
    "    if connectome_p.is_file():\n",
    "        connectome_paths.append(connectome_p)\n",
    "        connectome_ids.append(rid)"
   ]
  },
  {
   "cell_type": "code",
   "execution_count": 9,
   "metadata": {},
   "outputs": [],
   "source": [
    "columns = ['niak_id', 'Age_Bin', 'age_norm', 'sex_dummy', 'FD_scrubbed_s1_s2', 'FD_scrubbed_s1_s2_norm']\n",
    "pheno_data = pheno.loc[connectome_ids, columns]\n",
    "pheno_data.reset_index(inplace=True)\n",
    "n_subjects = pheno_data.shape[0]"
   ]
  },
  {
   "cell_type": "code",
   "execution_count": 10,
   "metadata": {},
   "outputs": [
    {
     "name": "stdout",
     "output_type": "stream",
     "text": [
      " Done. Took 48.54s"
     ]
    }
   ],
   "source": [
    "conn = np.zeros((n_subjects, 2080))\n",
    "\n",
    "start = time.time()\n",
    "for conn_id, conn_p in enumerate(connectome_paths):\n",
    "    conn[conn_id, :] = sio.loadmat(conn_p)['mean_fd']['connectome'][0][0]\n",
    "    \n",
    "    elapsed = time.time() - start\n",
    "    done = conn_id+1\n",
    "    remaining = n_subjects - done\n",
    "    time_left = (elapsed/done)*remaining\n",
    "    sys.stdout.write('\\r {}/{}. {:.2f}s left'.format(done, n_subjects, time_left))\n",
    "    sys.stdout.flush()\n",
    "sys.stdout.write('\\r Done. Took {:.2f}s'.format(elapsed))\n",
    "sys.stdout.flush()"
   ]
  },
  {
   "cell_type": "code",
   "execution_count": 11,
   "metadata": {},
   "outputs": [],
   "source": [
    "n_iter = 5000"
   ]
  },
  {
   "cell_type": "markdown",
   "metadata": {},
   "source": [
    "## Repeatedly compute the betas for the random groups"
   ]
  },
  {
   "cell_type": "code",
   "execution_count": 12,
   "metadata": {},
   "outputs": [
    {
     "name": "stdout",
     "output_type": "stream",
     "text": [
      " Done. Took 727.73s"
     ]
    }
   ],
   "source": [
    "shsp = skm.ShuffleSplit(n_splits=n_iter, test_size=0.5)\n",
    "half_point = np.floor(n_subjects/2).astype(int)\n",
    "group = np.zeros(n_subjects)\n",
    "pheno_data['group'] = 0\n",
    "glm = sln.LinearRegression(fit_intercept=True, n_jobs=-2)\n",
    "\n",
    "beta = np.zeros((2080, 2, n_iter))\n",
    "start = time.time()\n",
    "for fold_id, (control, patient) in enumerate(shsp.split(np.ones(n_subjects))):\n",
    "    group[control] = 0\n",
    "    group[patient] = 1\n",
    "    pheno_data['group'] = group\n",
    "    \n",
    "    mat1 = pat.dmatrix('sex_dummy + Age_Bin + FD_scrubbed_s1_s2 + group', pheno_data[:half_point])\n",
    "    mat2 = pat.dmatrix('sex_dummy + Age_Bin + FD_scrubbed_s1_s2 + group', pheno_data[half_point:])\n",
    "    res1 = glm.fit(mat1, conn[:half_point, :])\n",
    "    beta[:, 0, fold_id] = res1.coef_[:, -1]\n",
    "    res2 = glm.fit(mat2, conn[half_point:, :])\n",
    "    beta[:, 1, fold_id] = res2.coef_[:, -1]\n",
    "    \n",
    "    elapsed = time.time() - start\n",
    "    done = fold_id+1\n",
    "    remaining = n_iter - done\n",
    "    time_left = (elapsed/done)*remaining\n",
    "    sys.stdout.write('\\r {}/{}. {:.2f}s left ({:.3f}s)'.format(done, n_iter, time_left, elapsed/done))\n",
    "    sys.stdout.flush()\n",
    "sys.stdout.write('\\r Done. Took {:.2f}s'.format(elapsed))\n",
    "sys.stdout.flush()"
   ]
  },
  {
   "cell_type": "markdown",
   "metadata": {},
   "source": [
    "## Compute the correlation between the betas"
   ]
  },
  {
   "cell_type": "code",
   "execution_count": 13,
   "metadata": {},
   "outputs": [],
   "source": [
    "mask = np.tril(np.ones((64,64))).astype(bool)\n",
    "corr = np.zeros((64, n_iter))\n",
    "for fold_id in range(n_iter):\n",
    "    # Map the betas back to a matrix\n",
    "    beta1_mat = vec2mat(beta[:, 0, fold_id], mask)\n",
    "    beta2_mat = vec2mat(beta[:, 1, fold_id], mask)\n",
    "    # Compute the correlation\n",
    "    corr[:, fold_id] =  np.array([np.corrcoef(beta1_mat[nid, :], beta2_mat[nid, :])[0,1] for nid in range(64)])"
   ]
  },
  {
   "cell_type": "code",
   "execution_count": 14,
   "metadata": {},
   "outputs": [],
   "source": [
    "upper = np.percentile(corr, 95, axis=1)\n",
    "mean = np.mean(corr, 1)\n",
    "lower = np.percentile(corr, 5, axis=1)"
   ]
  },
  {
   "cell_type": "code",
   "execution_count": 15,
   "metadata": {},
   "outputs": [
    {
     "data": {
      "image/png": "[encoded data removed]",
      "text/plain": [
       "<Figure size 432x288 with 1 Axes>"
      ]
     },
     "metadata": {
      "needs_background": "light"
     },
     "output_type": "display_data"
    }
   ],
   "source": [
    "plt.fill_between(np.arange(64), lower, upper, facecolor='steelblue', alpha=0.3, interpolate=False, label='95% CI')\n",
    "plt.plot(np.arange(64), mean, 'k')\n",
    "plt.ylim([-1, 1]);\n",
    "plt.legend()\n",
    "plt.ylabel('Pearson\\'s correlation');\n",
    "plt.suptitle('Random correlation of two group contrasts');"
   ]
  },
  {
   "cell_type": "markdown",
   "metadata": {},
   "source": [
    "This looks pretty reasonable. We can't really treat these tests as fully independent but at least:\n",
    "- there is no region bias\n",
    "- the 95% confidence interval only includes +/- 0.4"
   ]
  },
  {
   "cell_type": "code",
   "execution_count": 16,
   "metadata": {},
   "outputs": [
    {
     "data": {
      "image/png": "[encoded data removed]",
      "text/plain": [
       "<Figure size 432x288 with 1 Axes>"
      ]
     },
     "metadata": {
      "needs_background": "light"
     },
     "output_type": "display_data"
    }
   ],
   "source": [
    "plt.fill_between(np.arange(64), lower, upper, facecolor='steelblue', alpha=0.3, interpolate=False, label='95% CI')\n",
    "plt.plot(np.arange(64), mean, 'k')\n",
    "plt.ylim([-0.5, 0.5]);\n",
    "plt.legend()\n",
    "plt.ylabel('Pearson\\'s correlation');\n",
    "plt.suptitle('Random correlation of two group contrasts');"
   ]
  },
  {
   "cell_type": "code",
   "execution_count": 17,
   "metadata": {},
   "outputs": [
    {
     "data": {
      "text/plain": [
       "0.4112851644568323"
      ]
     },
     "execution_count": 17,
     "metadata": {},
     "output_type": "execute_result"
    }
   ],
   "source": [
    "np.mean(upper)"
   ]
  },
  {
   "cell_type": "code",
   "execution_count": 18,
   "metadata": {},
   "outputs": [
    {
     "data": {
      "text/plain": [
       "-0.414319401717504"
      ]
     },
     "execution_count": 18,
     "metadata": {},
     "output_type": "execute_result"
    }
   ],
   "source": [
    "np.mean(lower)"
   ]
  },
  {
   "cell_type": "code",
   "execution_count": 19,
   "metadata": {},
   "outputs": [
    {
     "data": {
      "text/plain": [
       "-0.001265975416128022"
      ]
     },
     "execution_count": 19,
     "metadata": {},
     "output_type": "execute_result"
    }
   ],
   "source": [
    "np.mean(mean)"
   ]
  }
 ],
 "metadata": {
  "kernelspec": {
   "display_name": "p36 (svip)",
   "language": "python",
   "name": "svip"
  },
  "language_info": {
   "codemirror_mode": {
    "name": "ipython",
    "version": 3
   },
   "file_extension": ".py",
   "mimetype": "text/x-python",
   "name": "python",
   "nbconvert_exporter": "python",
   "pygments_lexer": "ipython3",
   "version": "3.6.6"
  }
 },
 "nbformat": 4,
 "nbformat_minor": 2
}
